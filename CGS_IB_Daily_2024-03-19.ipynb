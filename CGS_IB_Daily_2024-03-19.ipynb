{
 "cells": [
  {
   "cell_type": "markdown",
   "id": "6c1f0b16",
   "metadata": {},
   "source": [
    "Tasks:\n",
    "\n",
    "\n",
    "1. We input CGS' daily returns data from Interactive Brokers\n",
    "\n",
    "\n",
    "2. We clean the data to remove weekends\n",
    "\n",
    "\n",
    "3. We convert daily data to monthly\n",
    "\n",
    "\n",
    "4. We input CGS' official net monthly returns data from the administrator\n",
    "\n",
    "\n",
    "5. We calculate/estimate daily returns for CGS based on the official monthly data from the administrator by using the daily data from Interactive Brokers as the starting point\n",
    "\n"
   ]
  },
  {
   "cell_type": "code",
   "execution_count": null,
   "id": "4e476afd",
   "metadata": {},
   "outputs": [],
   "source": []
  },
  {
   "cell_type": "code",
   "execution_count": 95,
   "id": "f6384ad7",
   "metadata": {},
   "outputs": [],
   "source": [
    "import pandas as pd\n",
    "import numpy as np\n",
    "import math"
   ]
  },
  {
   "cell_type": "code",
   "execution_count": null,
   "id": "0690d9f7",
   "metadata": {},
   "outputs": [],
   "source": []
  },
  {
   "cell_type": "code",
   "execution_count": 96,
   "id": "66dee5f4",
   "metadata": {},
   "outputs": [],
   "source": [
    "data=pd.read_csv(r'C:\\Users\\Vedant Wanchoo\\Desktop\\CGS 2020\\Data Requests\\CGS_IB_Daily_2024-03-19.csv')"
   ]
  },
  {
   "cell_type": "code",
   "execution_count": 97,
   "id": "cf0559fc",
   "metadata": {},
   "outputs": [
    {
     "data": {
      "text/plain": [
       "(1978, 2)"
      ]
     },
     "execution_count": 97,
     "metadata": {},
     "output_type": "execute_result"
    }
   ],
   "source": [
    "data.shape"
   ]
  },
  {
   "cell_type": "code",
   "execution_count": 98,
   "id": "5cc6606e",
   "metadata": {},
   "outputs": [
    {
     "data": {
      "text/html": [
       "<div>\n",
       "<style scoped>\n",
       "    .dataframe tbody tr th:only-of-type {\n",
       "        vertical-align: middle;\n",
       "    }\n",
       "\n",
       "    .dataframe tbody tr th {\n",
       "        vertical-align: top;\n",
       "    }\n",
       "\n",
       "    .dataframe thead th {\n",
       "        text-align: right;\n",
       "    }\n",
       "</style>\n",
       "<table border=\"1\" class=\"dataframe\">\n",
       "  <thead>\n",
       "    <tr style=\"text-align: right;\">\n",
       "      <th></th>\n",
       "      <th>Date</th>\n",
       "      <th>CGS_IB_Daily</th>\n",
       "    </tr>\n",
       "  </thead>\n",
       "  <tbody>\n",
       "    <tr>\n",
       "      <th>1973</th>\n",
       "      <td>25-02-2024</td>\n",
       "      <td>0.0002</td>\n",
       "    </tr>\n",
       "    <tr>\n",
       "      <th>1974</th>\n",
       "      <td>26-02-2024</td>\n",
       "      <td>0.0014</td>\n",
       "    </tr>\n",
       "    <tr>\n",
       "      <th>1975</th>\n",
       "      <td>27-02-2024</td>\n",
       "      <td>-0.0082</td>\n",
       "    </tr>\n",
       "    <tr>\n",
       "      <th>1976</th>\n",
       "      <td>28-02-2024</td>\n",
       "      <td>0.0015</td>\n",
       "    </tr>\n",
       "    <tr>\n",
       "      <th>1977</th>\n",
       "      <td>29-02-2024</td>\n",
       "      <td>0.0061</td>\n",
       "    </tr>\n",
       "  </tbody>\n",
       "</table>\n",
       "</div>"
      ],
      "text/plain": [
       "            Date  CGS_IB_Daily\n",
       "1973  25-02-2024        0.0002\n",
       "1974  26-02-2024        0.0014\n",
       "1975  27-02-2024       -0.0082\n",
       "1976  28-02-2024        0.0015\n",
       "1977  29-02-2024        0.0061"
      ]
     },
     "execution_count": 98,
     "metadata": {},
     "output_type": "execute_result"
    }
   ],
   "source": [
    "data.tail()"
   ]
  },
  {
   "cell_type": "code",
   "execution_count": 99,
   "id": "458c5046",
   "metadata": {},
   "outputs": [
    {
     "data": {
      "text/html": [
       "<div>\n",
       "<style scoped>\n",
       "    .dataframe tbody tr th:only-of-type {\n",
       "        vertical-align: middle;\n",
       "    }\n",
       "\n",
       "    .dataframe tbody tr th {\n",
       "        vertical-align: top;\n",
       "    }\n",
       "\n",
       "    .dataframe thead th {\n",
       "        text-align: right;\n",
       "    }\n",
       "</style>\n",
       "<table border=\"1\" class=\"dataframe\">\n",
       "  <thead>\n",
       "    <tr style=\"text-align: right;\">\n",
       "      <th></th>\n",
       "      <th>Date</th>\n",
       "      <th>CGS_IB_Daily</th>\n",
       "    </tr>\n",
       "  </thead>\n",
       "  <tbody>\n",
       "    <tr>\n",
       "      <th>0</th>\n",
       "      <td>01-10-2018</td>\n",
       "      <td>0.0004</td>\n",
       "    </tr>\n",
       "    <tr>\n",
       "      <th>1</th>\n",
       "      <td>02-10-2018</td>\n",
       "      <td>-0.0005</td>\n",
       "    </tr>\n",
       "    <tr>\n",
       "      <th>2</th>\n",
       "      <td>03-10-2018</td>\n",
       "      <td>0.0000</td>\n",
       "    </tr>\n",
       "    <tr>\n",
       "      <th>3</th>\n",
       "      <td>04-10-2018</td>\n",
       "      <td>-0.0011</td>\n",
       "    </tr>\n",
       "    <tr>\n",
       "      <th>4</th>\n",
       "      <td>05-10-2018</td>\n",
       "      <td>-0.0001</td>\n",
       "    </tr>\n",
       "  </tbody>\n",
       "</table>\n",
       "</div>"
      ],
      "text/plain": [
       "         Date  CGS_IB_Daily\n",
       "0  01-10-2018        0.0004\n",
       "1  02-10-2018       -0.0005\n",
       "2  03-10-2018        0.0000\n",
       "3  04-10-2018       -0.0011\n",
       "4  05-10-2018       -0.0001"
      ]
     },
     "execution_count": 99,
     "metadata": {},
     "output_type": "execute_result"
    }
   ],
   "source": [
    "data.head()"
   ]
  },
  {
   "cell_type": "code",
   "execution_count": 100,
   "id": "1b1ec884",
   "metadata": {},
   "outputs": [],
   "source": [
    "data['CGS_IB_Daily'] = pd.to_numeric(data['CGS_IB_Daily'])"
   ]
  },
  {
   "cell_type": "code",
   "execution_count": 101,
   "id": "dac9d6c3",
   "metadata": {
    "scrolled": true
   },
   "outputs": [
    {
     "data": {
      "text/plain": [
       "1.5420112632444825"
      ]
     },
     "execution_count": 101,
     "metadata": {},
     "output_type": "execute_result"
    }
   ],
   "source": [
    "(1 + data['CGS_IB_Daily']).cumprod().iloc[-1]"
   ]
  },
  {
   "cell_type": "code",
   "execution_count": null,
   "id": "3111ad7f",
   "metadata": {},
   "outputs": [],
   "source": []
  },
  {
   "cell_type": "code",
   "execution_count": null,
   "id": "b544a616",
   "metadata": {},
   "outputs": [],
   "source": []
  },
  {
   "cell_type": "code",
   "execution_count": 102,
   "id": "056ad397",
   "metadata": {},
   "outputs": [],
   "source": [
    "#Remove Saturday and Sunday in dates."
   ]
  },
  {
   "cell_type": "code",
   "execution_count": null,
   "id": "3ef32b47",
   "metadata": {},
   "outputs": [],
   "source": []
  },
  {
   "cell_type": "code",
   "execution_count": 103,
   "id": "f9a6e8aa",
   "metadata": {},
   "outputs": [],
   "source": [
    "data1=data.copy()"
   ]
  },
  {
   "cell_type": "code",
   "execution_count": 104,
   "id": "2c9cd02d",
   "metadata": {},
   "outputs": [],
   "source": [
    "data1['Date'] = pd.to_datetime(data1['Date'], format='%d-%m-%Y')"
   ]
  },
  {
   "cell_type": "code",
   "execution_count": 105,
   "id": "6fd955b5",
   "metadata": {},
   "outputs": [],
   "source": [
    "data1['Day_of_Week'] = data1['Date'].dt.strftime('%A')"
   ]
  },
  {
   "cell_type": "code",
   "execution_count": 106,
   "id": "8331df22",
   "metadata": {},
   "outputs": [
    {
     "data": {
      "text/plain": [
       "(1978, 3)"
      ]
     },
     "execution_count": 106,
     "metadata": {},
     "output_type": "execute_result"
    }
   ],
   "source": [
    "data1.shape"
   ]
  },
  {
   "cell_type": "code",
   "execution_count": 107,
   "id": "0f41ebb0",
   "metadata": {},
   "outputs": [
    {
     "data": {
      "text/html": [
       "<div>\n",
       "<style scoped>\n",
       "    .dataframe tbody tr th:only-of-type {\n",
       "        vertical-align: middle;\n",
       "    }\n",
       "\n",
       "    .dataframe tbody tr th {\n",
       "        vertical-align: top;\n",
       "    }\n",
       "\n",
       "    .dataframe thead th {\n",
       "        text-align: right;\n",
       "    }\n",
       "</style>\n",
       "<table border=\"1\" class=\"dataframe\">\n",
       "  <thead>\n",
       "    <tr style=\"text-align: right;\">\n",
       "      <th></th>\n",
       "      <th>Date</th>\n",
       "      <th>CGS_IB_Daily</th>\n",
       "      <th>Day_of_Week</th>\n",
       "    </tr>\n",
       "  </thead>\n",
       "  <tbody>\n",
       "    <tr>\n",
       "      <th>0</th>\n",
       "      <td>2018-10-01</td>\n",
       "      <td>0.0004</td>\n",
       "      <td>Monday</td>\n",
       "    </tr>\n",
       "    <tr>\n",
       "      <th>1</th>\n",
       "      <td>2018-10-02</td>\n",
       "      <td>-0.0005</td>\n",
       "      <td>Tuesday</td>\n",
       "    </tr>\n",
       "    <tr>\n",
       "      <th>2</th>\n",
       "      <td>2018-10-03</td>\n",
       "      <td>0.0000</td>\n",
       "      <td>Wednesday</td>\n",
       "    </tr>\n",
       "    <tr>\n",
       "      <th>3</th>\n",
       "      <td>2018-10-04</td>\n",
       "      <td>-0.0011</td>\n",
       "      <td>Thursday</td>\n",
       "    </tr>\n",
       "    <tr>\n",
       "      <th>4</th>\n",
       "      <td>2018-10-05</td>\n",
       "      <td>-0.0001</td>\n",
       "      <td>Friday</td>\n",
       "    </tr>\n",
       "  </tbody>\n",
       "</table>\n",
       "</div>"
      ],
      "text/plain": [
       "        Date  CGS_IB_Daily Day_of_Week\n",
       "0 2018-10-01        0.0004      Monday\n",
       "1 2018-10-02       -0.0005     Tuesday\n",
       "2 2018-10-03        0.0000   Wednesday\n",
       "3 2018-10-04       -0.0011    Thursday\n",
       "4 2018-10-05       -0.0001      Friday"
      ]
     },
     "execution_count": 107,
     "metadata": {},
     "output_type": "execute_result"
    }
   ],
   "source": [
    "data1.head()"
   ]
  },
  {
   "cell_type": "code",
   "execution_count": null,
   "id": "2db56fa0",
   "metadata": {},
   "outputs": [],
   "source": []
  },
  {
   "cell_type": "code",
   "execution_count": 108,
   "id": "09c4849a",
   "metadata": {},
   "outputs": [],
   "source": [
    "a=data1[data1['Day_of_Week']=='Saturday']"
   ]
  },
  {
   "cell_type": "code",
   "execution_count": 109,
   "id": "2ce0cbef",
   "metadata": {},
   "outputs": [
    {
     "data": {
      "text/plain": [
       "0.0"
      ]
     },
     "execution_count": 109,
     "metadata": {},
     "output_type": "execute_result"
    }
   ],
   "source": [
    "a['CGS_IB_Daily'].sum()"
   ]
  },
  {
   "cell_type": "code",
   "execution_count": 110,
   "id": "86013308",
   "metadata": {},
   "outputs": [
    {
     "data": {
      "text/plain": [
       "0.0"
      ]
     },
     "execution_count": 110,
     "metadata": {},
     "output_type": "execute_result"
    }
   ],
   "source": [
    "a['CGS_IB_Daily'].max()"
   ]
  },
  {
   "cell_type": "code",
   "execution_count": 111,
   "id": "290f9142",
   "metadata": {},
   "outputs": [
    {
     "data": {
      "text/plain": [
       "0.0"
      ]
     },
     "execution_count": 111,
     "metadata": {},
     "output_type": "execute_result"
    }
   ],
   "source": [
    "a['CGS_IB_Daily'].min()"
   ]
  },
  {
   "cell_type": "code",
   "execution_count": 112,
   "id": "c5e5f0c1",
   "metadata": {},
   "outputs": [],
   "source": [
    "#All Saturdays have a 0% return so we can simply drop Saturdays"
   ]
  },
  {
   "cell_type": "code",
   "execution_count": 113,
   "id": "a4d430d4",
   "metadata": {},
   "outputs": [],
   "source": [
    "data2 = data1[data1['Day_of_Week'] != 'Saturday']"
   ]
  },
  {
   "cell_type": "code",
   "execution_count": 114,
   "id": "ba0ab90f",
   "metadata": {},
   "outputs": [
    {
     "data": {
      "text/plain": [
       "(1696, 3)"
      ]
     },
     "execution_count": 114,
     "metadata": {},
     "output_type": "execute_result"
    }
   ],
   "source": [
    "data2.shape"
   ]
  },
  {
   "cell_type": "code",
   "execution_count": 115,
   "id": "261a1e61",
   "metadata": {},
   "outputs": [
    {
     "data": {
      "text/html": [
       "<div>\n",
       "<style scoped>\n",
       "    .dataframe tbody tr th:only-of-type {\n",
       "        vertical-align: middle;\n",
       "    }\n",
       "\n",
       "    .dataframe tbody tr th {\n",
       "        vertical-align: top;\n",
       "    }\n",
       "\n",
       "    .dataframe thead th {\n",
       "        text-align: right;\n",
       "    }\n",
       "</style>\n",
       "<table border=\"1\" class=\"dataframe\">\n",
       "  <thead>\n",
       "    <tr style=\"text-align: right;\">\n",
       "      <th></th>\n",
       "      <th>Date</th>\n",
       "      <th>CGS_IB_Daily</th>\n",
       "      <th>Day_of_Week</th>\n",
       "    </tr>\n",
       "  </thead>\n",
       "  <tbody>\n",
       "    <tr>\n",
       "      <th>0</th>\n",
       "      <td>2018-10-01</td>\n",
       "      <td>0.0004</td>\n",
       "      <td>Monday</td>\n",
       "    </tr>\n",
       "    <tr>\n",
       "      <th>1</th>\n",
       "      <td>2018-10-02</td>\n",
       "      <td>-0.0005</td>\n",
       "      <td>Tuesday</td>\n",
       "    </tr>\n",
       "    <tr>\n",
       "      <th>2</th>\n",
       "      <td>2018-10-03</td>\n",
       "      <td>0.0000</td>\n",
       "      <td>Wednesday</td>\n",
       "    </tr>\n",
       "    <tr>\n",
       "      <th>3</th>\n",
       "      <td>2018-10-04</td>\n",
       "      <td>-0.0011</td>\n",
       "      <td>Thursday</td>\n",
       "    </tr>\n",
       "    <tr>\n",
       "      <th>4</th>\n",
       "      <td>2018-10-05</td>\n",
       "      <td>-0.0001</td>\n",
       "      <td>Friday</td>\n",
       "    </tr>\n",
       "    <tr>\n",
       "      <th>6</th>\n",
       "      <td>2018-10-07</td>\n",
       "      <td>0.0000</td>\n",
       "      <td>Sunday</td>\n",
       "    </tr>\n",
       "    <tr>\n",
       "      <th>7</th>\n",
       "      <td>2018-10-08</td>\n",
       "      <td>-0.0002</td>\n",
       "      <td>Monday</td>\n",
       "    </tr>\n",
       "  </tbody>\n",
       "</table>\n",
       "</div>"
      ],
      "text/plain": [
       "        Date  CGS_IB_Daily Day_of_Week\n",
       "0 2018-10-01        0.0004      Monday\n",
       "1 2018-10-02       -0.0005     Tuesday\n",
       "2 2018-10-03        0.0000   Wednesday\n",
       "3 2018-10-04       -0.0011    Thursday\n",
       "4 2018-10-05       -0.0001      Friday\n",
       "6 2018-10-07        0.0000      Sunday\n",
       "7 2018-10-08       -0.0002      Monday"
      ]
     },
     "execution_count": 115,
     "metadata": {},
     "output_type": "execute_result"
    }
   ],
   "source": [
    "data2.head(7)"
   ]
  },
  {
   "cell_type": "code",
   "execution_count": null,
   "id": "aefc341d",
   "metadata": {},
   "outputs": [],
   "source": []
  },
  {
   "cell_type": "code",
   "execution_count": 116,
   "id": "871f506b",
   "metadata": {},
   "outputs": [],
   "source": [
    "b=data2[data2['Day_of_Week']=='Sunday']"
   ]
  },
  {
   "cell_type": "code",
   "execution_count": 117,
   "id": "92d9668a",
   "metadata": {},
   "outputs": [
    {
     "data": {
      "text/plain": [
       "-0.12589999999999998"
      ]
     },
     "execution_count": 117,
     "metadata": {},
     "output_type": "execute_result"
    }
   ],
   "source": [
    "b['CGS_IB_Daily'].sum()"
   ]
  },
  {
   "cell_type": "code",
   "execution_count": 118,
   "id": "a18674aa",
   "metadata": {},
   "outputs": [
    {
     "data": {
      "text/plain": [
       "0.0031"
      ]
     },
     "execution_count": 118,
     "metadata": {},
     "output_type": "execute_result"
    }
   ],
   "source": [
    "b['CGS_IB_Daily'].max()"
   ]
  },
  {
   "cell_type": "code",
   "execution_count": 119,
   "id": "03160f30",
   "metadata": {},
   "outputs": [
    {
     "data": {
      "text/plain": [
       "-0.0319"
      ]
     },
     "execution_count": 119,
     "metadata": {},
     "output_type": "execute_result"
    }
   ],
   "source": [
    "b['CGS_IB_Daily'].min()"
   ]
  },
  {
   "cell_type": "code",
   "execution_count": null,
   "id": "2b043547",
   "metadata": {},
   "outputs": [],
   "source": []
  },
  {
   "cell_type": "code",
   "execution_count": 120,
   "id": "a8046e56",
   "metadata": {},
   "outputs": [],
   "source": [
    "#Sunday has returns so we can't just drop Sunday. We will have to merge (compound) performance in Monday and then drop Sunday"
   ]
  },
  {
   "cell_type": "code",
   "execution_count": 121,
   "id": "1e687a45",
   "metadata": {},
   "outputs": [],
   "source": [
    "data3 = data2.copy()"
   ]
  },
  {
   "cell_type": "code",
   "execution_count": 122,
   "id": "d01e973b",
   "metadata": {},
   "outputs": [
    {
     "data": {
      "text/plain": [
       "(1696, 3)"
      ]
     },
     "execution_count": 122,
     "metadata": {},
     "output_type": "execute_result"
    }
   ],
   "source": [
    "data3.shape"
   ]
  },
  {
   "cell_type": "code",
   "execution_count": 123,
   "id": "8673ef64",
   "metadata": {},
   "outputs": [
    {
     "name": "stderr",
     "output_type": "stream",
     "text": [
      "C:\\Users\\Vedant Wanchoo\\anaconda3\\lib\\site-packages\\pandas\\core\\indexing.py:1732: SettingWithCopyWarning: \n",
      "A value is trying to be set on a copy of a slice from a DataFrame\n",
      "\n",
      "See the caveats in the documentation: https://pandas.pydata.org/pandas-docs/stable/user_guide/indexing.html#returning-a-view-versus-a-copy\n",
      "  self._setitem_single_block(indexer, value, name)\n"
     ]
    }
   ],
   "source": [
    "data3['CGS_IB_Daily_Adj']=0\n",
    "\n",
    "for i in range (1,len(data3)):\n",
    "    \n",
    "    if data3['Day_of_Week'].iloc[i-1] == 'Sunday':\n",
    "        \n",
    "        data3['CGS_IB_Daily_Adj'].iloc[i] = ((1+data3['CGS_IB_Daily'].iloc[i-1])*(1+data3['CGS_IB_Daily'].iloc[i]))-1\n",
    "        data3['CGS_IB_Daily_Adj'].iloc[i-1] = 0\n",
    "    \n",
    "    else:\n",
    "        \n",
    "        data3['CGS_IB_Daily_Adj'].iloc[i] = data3['CGS_IB_Daily'].iloc[i]\n",
    "\n",
    "data3['CGS_IB_Daily_Adj'].iloc[0] = data3['CGS_IB_Daily'].iloc[0] "
   ]
  },
  {
   "cell_type": "code",
   "execution_count": 124,
   "id": "1a2c483f",
   "metadata": {},
   "outputs": [
    {
     "data": {
      "text/plain": [
       "(1696, 4)"
      ]
     },
     "execution_count": 124,
     "metadata": {},
     "output_type": "execute_result"
    }
   ],
   "source": [
    "data3.shape"
   ]
  },
  {
   "cell_type": "code",
   "execution_count": 125,
   "id": "792711be",
   "metadata": {},
   "outputs": [],
   "source": [
    "data3=data3[data3['Day_of_Week']!= 'Sunday']"
   ]
  },
  {
   "cell_type": "code",
   "execution_count": 126,
   "id": "3908cf98",
   "metadata": {
    "scrolled": true
   },
   "outputs": [
    {
     "data": {
      "text/html": [
       "<div>\n",
       "<style scoped>\n",
       "    .dataframe tbody tr th:only-of-type {\n",
       "        vertical-align: middle;\n",
       "    }\n",
       "\n",
       "    .dataframe tbody tr th {\n",
       "        vertical-align: top;\n",
       "    }\n",
       "\n",
       "    .dataframe thead th {\n",
       "        text-align: right;\n",
       "    }\n",
       "</style>\n",
       "<table border=\"1\" class=\"dataframe\">\n",
       "  <thead>\n",
       "    <tr style=\"text-align: right;\">\n",
       "      <th></th>\n",
       "      <th>Date</th>\n",
       "      <th>CGS_IB_Daily</th>\n",
       "      <th>Day_of_Week</th>\n",
       "      <th>CGS_IB_Daily_Adj</th>\n",
       "    </tr>\n",
       "  </thead>\n",
       "  <tbody>\n",
       "    <tr>\n",
       "      <th>0</th>\n",
       "      <td>2018-10-01</td>\n",
       "      <td>0.0004</td>\n",
       "      <td>Monday</td>\n",
       "      <td>0.0004</td>\n",
       "    </tr>\n",
       "    <tr>\n",
       "      <th>1</th>\n",
       "      <td>2018-10-02</td>\n",
       "      <td>-0.0005</td>\n",
       "      <td>Tuesday</td>\n",
       "      <td>-0.0005</td>\n",
       "    </tr>\n",
       "    <tr>\n",
       "      <th>2</th>\n",
       "      <td>2018-10-03</td>\n",
       "      <td>0.0000</td>\n",
       "      <td>Wednesday</td>\n",
       "      <td>0.0000</td>\n",
       "    </tr>\n",
       "    <tr>\n",
       "      <th>3</th>\n",
       "      <td>2018-10-04</td>\n",
       "      <td>-0.0011</td>\n",
       "      <td>Thursday</td>\n",
       "      <td>-0.0011</td>\n",
       "    </tr>\n",
       "    <tr>\n",
       "      <th>4</th>\n",
       "      <td>2018-10-05</td>\n",
       "      <td>-0.0001</td>\n",
       "      <td>Friday</td>\n",
       "      <td>-0.0001</td>\n",
       "    </tr>\n",
       "    <tr>\n",
       "      <th>7</th>\n",
       "      <td>2018-10-08</td>\n",
       "      <td>-0.0002</td>\n",
       "      <td>Monday</td>\n",
       "      <td>-0.0002</td>\n",
       "    </tr>\n",
       "    <tr>\n",
       "      <th>8</th>\n",
       "      <td>2018-10-09</td>\n",
       "      <td>-0.0002</td>\n",
       "      <td>Tuesday</td>\n",
       "      <td>-0.0002</td>\n",
       "    </tr>\n",
       "    <tr>\n",
       "      <th>9</th>\n",
       "      <td>2018-10-10</td>\n",
       "      <td>-0.0032</td>\n",
       "      <td>Wednesday</td>\n",
       "      <td>-0.0032</td>\n",
       "    </tr>\n",
       "  </tbody>\n",
       "</table>\n",
       "</div>"
      ],
      "text/plain": [
       "        Date  CGS_IB_Daily Day_of_Week  CGS_IB_Daily_Adj\n",
       "0 2018-10-01        0.0004      Monday            0.0004\n",
       "1 2018-10-02       -0.0005     Tuesday           -0.0005\n",
       "2 2018-10-03        0.0000   Wednesday            0.0000\n",
       "3 2018-10-04       -0.0011    Thursday           -0.0011\n",
       "4 2018-10-05       -0.0001      Friday           -0.0001\n",
       "7 2018-10-08       -0.0002      Monday           -0.0002\n",
       "8 2018-10-09       -0.0002     Tuesday           -0.0002\n",
       "9 2018-10-10       -0.0032   Wednesday           -0.0032"
      ]
     },
     "execution_count": 126,
     "metadata": {},
     "output_type": "execute_result"
    }
   ],
   "source": [
    "data3.head(8)"
   ]
  },
  {
   "cell_type": "code",
   "execution_count": 127,
   "id": "74689b82",
   "metadata": {},
   "outputs": [
    {
     "data": {
      "text/plain": [
       "1.54201126324448"
      ]
     },
     "execution_count": 127,
     "metadata": {},
     "output_type": "execute_result"
    }
   ],
   "source": [
    "(1 + data3['CGS_IB_Daily_Adj']).cumprod().iloc[-1]"
   ]
  },
  {
   "cell_type": "code",
   "execution_count": 128,
   "id": "022befb2",
   "metadata": {},
   "outputs": [
    {
     "data": {
      "text/plain": [
       "1.5420112632444825"
      ]
     },
     "execution_count": 128,
     "metadata": {},
     "output_type": "execute_result"
    }
   ],
   "source": [
    "(1 + data['CGS_IB_Daily']).cumprod().iloc[-1]"
   ]
  },
  {
   "cell_type": "code",
   "execution_count": null,
   "id": "b25e69af",
   "metadata": {},
   "outputs": [],
   "source": []
  },
  {
   "cell_type": "code",
   "execution_count": 129,
   "id": "67ac884e",
   "metadata": {},
   "outputs": [],
   "source": [
    "##\n",
    "#data3.to_csv('CGS_IB_Daily_Cleaned_2023-09-26.csv')"
   ]
  },
  {
   "cell_type": "code",
   "execution_count": null,
   "id": "7923928b",
   "metadata": {},
   "outputs": [],
   "source": []
  },
  {
   "cell_type": "code",
   "execution_count": 130,
   "id": "c9996537",
   "metadata": {},
   "outputs": [],
   "source": [
    "#We have daily data from IB that does not include Saturdays and Sundays.\n",
    "\n",
    "#Now we will convert daily to Monthly"
   ]
  },
  {
   "cell_type": "code",
   "execution_count": null,
   "id": "c3865102",
   "metadata": {},
   "outputs": [],
   "source": []
  },
  {
   "cell_type": "code",
   "execution_count": 131,
   "id": "24753608",
   "metadata": {},
   "outputs": [],
   "source": [
    "data4=data3.copy()"
   ]
  },
  {
   "cell_type": "code",
   "execution_count": 132,
   "id": "982d79b0",
   "metadata": {},
   "outputs": [
    {
     "data": {
      "text/plain": [
       "(1414, 4)"
      ]
     },
     "execution_count": 132,
     "metadata": {},
     "output_type": "execute_result"
    }
   ],
   "source": [
    "data4.shape"
   ]
  },
  {
   "cell_type": "code",
   "execution_count": 133,
   "id": "1ee365cc",
   "metadata": {},
   "outputs": [
    {
     "data": {
      "text/html": [
       "<div>\n",
       "<style scoped>\n",
       "    .dataframe tbody tr th:only-of-type {\n",
       "        vertical-align: middle;\n",
       "    }\n",
       "\n",
       "    .dataframe tbody tr th {\n",
       "        vertical-align: top;\n",
       "    }\n",
       "\n",
       "    .dataframe thead th {\n",
       "        text-align: right;\n",
       "    }\n",
       "</style>\n",
       "<table border=\"1\" class=\"dataframe\">\n",
       "  <thead>\n",
       "    <tr style=\"text-align: right;\">\n",
       "      <th></th>\n",
       "      <th>Date</th>\n",
       "      <th>CGS_IB_Daily</th>\n",
       "      <th>Day_of_Week</th>\n",
       "      <th>CGS_IB_Daily_Adj</th>\n",
       "    </tr>\n",
       "  </thead>\n",
       "  <tbody>\n",
       "    <tr>\n",
       "      <th>0</th>\n",
       "      <td>2018-10-01</td>\n",
       "      <td>0.0004</td>\n",
       "      <td>Monday</td>\n",
       "      <td>0.0004</td>\n",
       "    </tr>\n",
       "    <tr>\n",
       "      <th>1</th>\n",
       "      <td>2018-10-02</td>\n",
       "      <td>-0.0005</td>\n",
       "      <td>Tuesday</td>\n",
       "      <td>-0.0005</td>\n",
       "    </tr>\n",
       "    <tr>\n",
       "      <th>2</th>\n",
       "      <td>2018-10-03</td>\n",
       "      <td>0.0000</td>\n",
       "      <td>Wednesday</td>\n",
       "      <td>0.0000</td>\n",
       "    </tr>\n",
       "    <tr>\n",
       "      <th>3</th>\n",
       "      <td>2018-10-04</td>\n",
       "      <td>-0.0011</td>\n",
       "      <td>Thursday</td>\n",
       "      <td>-0.0011</td>\n",
       "    </tr>\n",
       "    <tr>\n",
       "      <th>4</th>\n",
       "      <td>2018-10-05</td>\n",
       "      <td>-0.0001</td>\n",
       "      <td>Friday</td>\n",
       "      <td>-0.0001</td>\n",
       "    </tr>\n",
       "  </tbody>\n",
       "</table>\n",
       "</div>"
      ],
      "text/plain": [
       "        Date  CGS_IB_Daily Day_of_Week  CGS_IB_Daily_Adj\n",
       "0 2018-10-01        0.0004      Monday            0.0004\n",
       "1 2018-10-02       -0.0005     Tuesday           -0.0005\n",
       "2 2018-10-03        0.0000   Wednesday            0.0000\n",
       "3 2018-10-04       -0.0011    Thursday           -0.0011\n",
       "4 2018-10-05       -0.0001      Friday           -0.0001"
      ]
     },
     "execution_count": 133,
     "metadata": {},
     "output_type": "execute_result"
    }
   ],
   "source": [
    "data4.head()"
   ]
  },
  {
   "cell_type": "code",
   "execution_count": null,
   "id": "9cbe7395",
   "metadata": {},
   "outputs": [],
   "source": []
  },
  {
   "cell_type": "code",
   "execution_count": 134,
   "id": "b3d6ebfb",
   "metadata": {},
   "outputs": [],
   "source": [
    "# Set the 'Date' column as the index\n",
    "data4.set_index('Date', inplace=True)"
   ]
  },
  {
   "cell_type": "code",
   "execution_count": 135,
   "id": "42590f58",
   "metadata": {},
   "outputs": [],
   "source": [
    "# Calculate daily compounded returns\n",
    "data4['Compound_Return'] = (1 + data4['CGS_IB_Daily_Adj']).cumprod()\n",
    "\n",
    "# Resample the data to monthly frequency\n",
    "monthly_returns = data4['Compound_Return'].resample('M').ffill()\n",
    "\n",
    "# Calculate the monthly compounded returns\n",
    "monthly_compounded_returns = monthly_returns.pct_change().fillna(0)\n",
    "\n",
    "# Print the resulting monthly compounded returns\n",
    "#print(monthly_compounded_returns)\n"
   ]
  },
  {
   "cell_type": "code",
   "execution_count": 136,
   "id": "d4e2e5b8",
   "metadata": {},
   "outputs": [
    {
     "data": {
      "text/html": [
       "<div>\n",
       "<style scoped>\n",
       "    .dataframe tbody tr th:only-of-type {\n",
       "        vertical-align: middle;\n",
       "    }\n",
       "\n",
       "    .dataframe tbody tr th {\n",
       "        vertical-align: top;\n",
       "    }\n",
       "\n",
       "    .dataframe thead th {\n",
       "        text-align: right;\n",
       "    }\n",
       "</style>\n",
       "<table border=\"1\" class=\"dataframe\">\n",
       "  <thead>\n",
       "    <tr style=\"text-align: right;\">\n",
       "      <th></th>\n",
       "      <th>CGS_IB_Daily</th>\n",
       "      <th>Day_of_Week</th>\n",
       "      <th>CGS_IB_Daily_Adj</th>\n",
       "      <th>Compound_Return</th>\n",
       "    </tr>\n",
       "    <tr>\n",
       "      <th>Date</th>\n",
       "      <th></th>\n",
       "      <th></th>\n",
       "      <th></th>\n",
       "      <th></th>\n",
       "    </tr>\n",
       "  </thead>\n",
       "  <tbody>\n",
       "    <tr>\n",
       "      <th>2018-10-01</th>\n",
       "      <td>0.0004</td>\n",
       "      <td>Monday</td>\n",
       "      <td>0.0004</td>\n",
       "      <td>1.0004</td>\n",
       "    </tr>\n",
       "    <tr>\n",
       "      <th>2018-10-02</th>\n",
       "      <td>-0.0005</td>\n",
       "      <td>Tuesday</td>\n",
       "      <td>-0.0005</td>\n",
       "      <td>0.9999</td>\n",
       "    </tr>\n",
       "    <tr>\n",
       "      <th>2018-10-03</th>\n",
       "      <td>0.0000</td>\n",
       "      <td>Wednesday</td>\n",
       "      <td>0.0000</td>\n",
       "      <td>0.9999</td>\n",
       "    </tr>\n",
       "    <tr>\n",
       "      <th>2018-10-04</th>\n",
       "      <td>-0.0011</td>\n",
       "      <td>Thursday</td>\n",
       "      <td>-0.0011</td>\n",
       "      <td>0.9988</td>\n",
       "    </tr>\n",
       "    <tr>\n",
       "      <th>2018-10-05</th>\n",
       "      <td>-0.0001</td>\n",
       "      <td>Friday</td>\n",
       "      <td>-0.0001</td>\n",
       "      <td>0.9987</td>\n",
       "    </tr>\n",
       "  </tbody>\n",
       "</table>\n",
       "</div>"
      ],
      "text/plain": [
       "            CGS_IB_Daily Day_of_Week  CGS_IB_Daily_Adj  Compound_Return\n",
       "Date                                                                   \n",
       "2018-10-01        0.0004      Monday            0.0004           1.0004\n",
       "2018-10-02       -0.0005     Tuesday           -0.0005           0.9999\n",
       "2018-10-03        0.0000   Wednesday            0.0000           0.9999\n",
       "2018-10-04       -0.0011    Thursday           -0.0011           0.9988\n",
       "2018-10-05       -0.0001      Friday           -0.0001           0.9987"
      ]
     },
     "execution_count": 136,
     "metadata": {},
     "output_type": "execute_result"
    }
   ],
   "source": [
    "data4.head()"
   ]
  },
  {
   "cell_type": "code",
   "execution_count": null,
   "id": "a411bad8",
   "metadata": {},
   "outputs": [],
   "source": []
  },
  {
   "cell_type": "code",
   "execution_count": 137,
   "id": "fd16b6ae",
   "metadata": {},
   "outputs": [],
   "source": [
    "monthly_compounded_returns[0] = monthly_returns[0]-1"
   ]
  },
  {
   "cell_type": "code",
   "execution_count": 138,
   "id": "45834f7a",
   "metadata": {},
   "outputs": [],
   "source": [
    "CGS_M=pd.DataFrame(monthly_compounded_returns)"
   ]
  },
  {
   "cell_type": "code",
   "execution_count": 139,
   "id": "085d83c8",
   "metadata": {},
   "outputs": [],
   "source": [
    "CGS_M.columns=['CGS_IB_Monthly']"
   ]
  },
  {
   "cell_type": "code",
   "execution_count": 140,
   "id": "b43f9191",
   "metadata": {
    "scrolled": true
   },
   "outputs": [
    {
     "data": {
      "text/html": [
       "<div>\n",
       "<style scoped>\n",
       "    .dataframe tbody tr th:only-of-type {\n",
       "        vertical-align: middle;\n",
       "    }\n",
       "\n",
       "    .dataframe tbody tr th {\n",
       "        vertical-align: top;\n",
       "    }\n",
       "\n",
       "    .dataframe thead th {\n",
       "        text-align: right;\n",
       "    }\n",
       "</style>\n",
       "<table border=\"1\" class=\"dataframe\">\n",
       "  <thead>\n",
       "    <tr style=\"text-align: right;\">\n",
       "      <th></th>\n",
       "      <th>CGS_IB_Monthly</th>\n",
       "    </tr>\n",
       "    <tr>\n",
       "      <th>Date</th>\n",
       "      <th></th>\n",
       "    </tr>\n",
       "  </thead>\n",
       "  <tbody>\n",
       "    <tr>\n",
       "      <th>2018-10-31</th>\n",
       "      <td>-0.034441</td>\n",
       "    </tr>\n",
       "    <tr>\n",
       "      <th>2018-11-30</th>\n",
       "      <td>0.020878</td>\n",
       "    </tr>\n",
       "    <tr>\n",
       "      <th>2018-12-31</th>\n",
       "      <td>-0.068742</td>\n",
       "    </tr>\n",
       "    <tr>\n",
       "      <th>2019-01-31</th>\n",
       "      <td>0.077136</td>\n",
       "    </tr>\n",
       "    <tr>\n",
       "      <th>2019-02-28</th>\n",
       "      <td>0.016695</td>\n",
       "    </tr>\n",
       "  </tbody>\n",
       "</table>\n",
       "</div>"
      ],
      "text/plain": [
       "            CGS_IB_Monthly\n",
       "Date                      \n",
       "2018-10-31       -0.034441\n",
       "2018-11-30        0.020878\n",
       "2018-12-31       -0.068742\n",
       "2019-01-31        0.077136\n",
       "2019-02-28        0.016695"
      ]
     },
     "execution_count": 140,
     "metadata": {},
     "output_type": "execute_result"
    }
   ],
   "source": [
    "CGS_M.head()"
   ]
  },
  {
   "cell_type": "code",
   "execution_count": 141,
   "id": "033b1060",
   "metadata": {},
   "outputs": [
    {
     "data": {
      "text/plain": [
       "(65, 1)"
      ]
     },
     "execution_count": 141,
     "metadata": {},
     "output_type": "execute_result"
    }
   ],
   "source": [
    "CGS_M.shape"
   ]
  },
  {
   "cell_type": "code",
   "execution_count": 142,
   "id": "1c3a21c2",
   "metadata": {},
   "outputs": [
    {
     "data": {
      "text/plain": [
       "1.5420112632444787"
      ]
     },
     "execution_count": 142,
     "metadata": {},
     "output_type": "execute_result"
    }
   ],
   "source": [
    "(1 + CGS_M['CGS_IB_Monthly']).cumprod().iloc[-1]"
   ]
  },
  {
   "cell_type": "code",
   "execution_count": 143,
   "id": "e49632d6",
   "metadata": {},
   "outputs": [
    {
     "data": {
      "text/plain": [
       "1.54201126324448"
      ]
     },
     "execution_count": 143,
     "metadata": {},
     "output_type": "execute_result"
    }
   ],
   "source": [
    "(1 + data3['CGS_IB_Daily_Adj']).cumprod().iloc[-1]"
   ]
  },
  {
   "cell_type": "code",
   "execution_count": 144,
   "id": "e3714545",
   "metadata": {},
   "outputs": [
    {
     "data": {
      "text/plain": [
       "1.5420112632444825"
      ]
     },
     "execution_count": 144,
     "metadata": {},
     "output_type": "execute_result"
    }
   ],
   "source": [
    "(1 + data['CGS_IB_Daily']).cumprod().iloc[-1]"
   ]
  },
  {
   "cell_type": "code",
   "execution_count": null,
   "id": "835f0e5b",
   "metadata": {},
   "outputs": [],
   "source": []
  },
  {
   "cell_type": "code",
   "execution_count": 145,
   "id": "0d6b41b9",
   "metadata": {},
   "outputs": [],
   "source": [
    "##\n",
    "#CGS_M.to_csv('CGS_IB_Monthly_Cleaned_2023-09-26.csv')"
   ]
  },
  {
   "cell_type": "code",
   "execution_count": null,
   "id": "c9295e20",
   "metadata": {},
   "outputs": [],
   "source": []
  },
  {
   "cell_type": "code",
   "execution_count": 146,
   "id": "7e7649b1",
   "metadata": {},
   "outputs": [],
   "source": [
    "#Input official CGS monthly data from administrator"
   ]
  },
  {
   "cell_type": "code",
   "execution_count": 147,
   "id": "3f719029",
   "metadata": {},
   "outputs": [],
   "source": [
    "data_M=pd.read_csv(r'C:\\Users\\Vedant Wanchoo\\Desktop\\CGS 2020\\Data Requests\\CGS_Official_Monthly_2024-03-19.csv')"
   ]
  },
  {
   "cell_type": "code",
   "execution_count": 148,
   "id": "d4cc557f",
   "metadata": {},
   "outputs": [
    {
     "data": {
      "text/html": [
       "<div>\n",
       "<style scoped>\n",
       "    .dataframe tbody tr th:only-of-type {\n",
       "        vertical-align: middle;\n",
       "    }\n",
       "\n",
       "    .dataframe tbody tr th {\n",
       "        vertical-align: top;\n",
       "    }\n",
       "\n",
       "    .dataframe thead th {\n",
       "        text-align: right;\n",
       "    }\n",
       "</style>\n",
       "<table border=\"1\" class=\"dataframe\">\n",
       "  <thead>\n",
       "    <tr style=\"text-align: right;\">\n",
       "      <th></th>\n",
       "      <th>Date</th>\n",
       "      <th>CGS_Gross_Admin_Monthly</th>\n",
       "      <th>CGS_Net_Admin_Monthly</th>\n",
       "    </tr>\n",
       "  </thead>\n",
       "  <tbody>\n",
       "    <tr>\n",
       "      <th>0</th>\n",
       "      <td>31-10-2018</td>\n",
       "      <td>-0.049726</td>\n",
       "      <td>-0.049726</td>\n",
       "    </tr>\n",
       "    <tr>\n",
       "      <th>1</th>\n",
       "      <td>30-11-2018</td>\n",
       "      <td>0.003295</td>\n",
       "      <td>0.003295</td>\n",
       "    </tr>\n",
       "    <tr>\n",
       "      <th>2</th>\n",
       "      <td>31-12-2018</td>\n",
       "      <td>-0.025774</td>\n",
       "      <td>-0.025774</td>\n",
       "    </tr>\n",
       "    <tr>\n",
       "      <th>3</th>\n",
       "      <td>31-01-2019</td>\n",
       "      <td>0.072237</td>\n",
       "      <td>0.072237</td>\n",
       "    </tr>\n",
       "    <tr>\n",
       "      <th>4</th>\n",
       "      <td>28-02-2019</td>\n",
       "      <td>0.014037</td>\n",
       "      <td>0.014037</td>\n",
       "    </tr>\n",
       "  </tbody>\n",
       "</table>\n",
       "</div>"
      ],
      "text/plain": [
       "         Date  CGS_Gross_Admin_Monthly  CGS_Net_Admin_Monthly\n",
       "0  31-10-2018                -0.049726              -0.049726\n",
       "1  30-11-2018                 0.003295               0.003295\n",
       "2  31-12-2018                -0.025774              -0.025774\n",
       "3  31-01-2019                 0.072237               0.072237\n",
       "4  28-02-2019                 0.014037               0.014037"
      ]
     },
     "execution_count": 148,
     "metadata": {},
     "output_type": "execute_result"
    }
   ],
   "source": [
    "data_M.head()"
   ]
  },
  {
   "cell_type": "code",
   "execution_count": 149,
   "id": "6abad207",
   "metadata": {},
   "outputs": [
    {
     "data": {
      "text/plain": [
       "(65, 3)"
      ]
     },
     "execution_count": 149,
     "metadata": {},
     "output_type": "execute_result"
    }
   ],
   "source": [
    "data_M.shape"
   ]
  },
  {
   "cell_type": "code",
   "execution_count": 150,
   "id": "9ed67f57",
   "metadata": {},
   "outputs": [
    {
     "data": {
      "text/plain": [
       "1.6659460753462085"
      ]
     },
     "execution_count": 150,
     "metadata": {},
     "output_type": "execute_result"
    }
   ],
   "source": [
    "(1 + data_M['CGS_Gross_Admin_Monthly']).cumprod().iloc[-1]"
   ]
  },
  {
   "cell_type": "code",
   "execution_count": 151,
   "id": "e7d6c8fe",
   "metadata": {},
   "outputs": [
    {
     "data": {
      "text/plain": [
       "1.6659460753462085"
      ]
     },
     "execution_count": 151,
     "metadata": {},
     "output_type": "execute_result"
    }
   ],
   "source": [
    "(1 + data_M['CGS_Net_Admin_Monthly']).cumprod().iloc[-1]"
   ]
  },
  {
   "cell_type": "code",
   "execution_count": 152,
   "id": "3f01bc74",
   "metadata": {},
   "outputs": [
    {
     "data": {
      "text/plain": [
       "1.5420112632444787"
      ]
     },
     "execution_count": 152,
     "metadata": {},
     "output_type": "execute_result"
    }
   ],
   "source": [
    "(1 + CGS_M['CGS_IB_Monthly']).cumprod().iloc[-1]"
   ]
  },
  {
   "cell_type": "code",
   "execution_count": 153,
   "id": "638fb3a6",
   "metadata": {},
   "outputs": [
    {
     "data": {
      "text/plain": [
       "1.54201126324448"
      ]
     },
     "execution_count": 153,
     "metadata": {},
     "output_type": "execute_result"
    }
   ],
   "source": [
    "(1 + data3['CGS_IB_Daily_Adj']).cumprod().iloc[-1]"
   ]
  },
  {
   "cell_type": "code",
   "execution_count": null,
   "id": "32c74580",
   "metadata": {},
   "outputs": [],
   "source": []
  },
  {
   "cell_type": "code",
   "execution_count": null,
   "id": "947c6f62",
   "metadata": {},
   "outputs": [],
   "source": []
  },
  {
   "cell_type": "code",
   "execution_count": 154,
   "id": "97adcc58",
   "metadata": {
    "scrolled": true
   },
   "outputs": [],
   "source": [
    "#The official monthly numbers do not match the Interactive Brokers numbers\n",
    "\n",
    "#We will calculate official daily numbers, using the IB daily numbers as a starting point"
   ]
  },
  {
   "cell_type": "code",
   "execution_count": null,
   "id": "39822e10",
   "metadata": {},
   "outputs": [],
   "source": []
  },
  {
   "cell_type": "code",
   "execution_count": 155,
   "id": "c861046e",
   "metadata": {},
   "outputs": [],
   "source": [
    "data5=data3.copy()"
   ]
  },
  {
   "cell_type": "code",
   "execution_count": 156,
   "id": "979f311a",
   "metadata": {},
   "outputs": [
    {
     "data": {
      "text/plain": [
       "(1414, 4)"
      ]
     },
     "execution_count": 156,
     "metadata": {},
     "output_type": "execute_result"
    }
   ],
   "source": [
    "data5.shape"
   ]
  },
  {
   "cell_type": "code",
   "execution_count": 157,
   "id": "cd663545",
   "metadata": {},
   "outputs": [
    {
     "data": {
      "text/html": [
       "<div>\n",
       "<style scoped>\n",
       "    .dataframe tbody tr th:only-of-type {\n",
       "        vertical-align: middle;\n",
       "    }\n",
       "\n",
       "    .dataframe tbody tr th {\n",
       "        vertical-align: top;\n",
       "    }\n",
       "\n",
       "    .dataframe thead th {\n",
       "        text-align: right;\n",
       "    }\n",
       "</style>\n",
       "<table border=\"1\" class=\"dataframe\">\n",
       "  <thead>\n",
       "    <tr style=\"text-align: right;\">\n",
       "      <th></th>\n",
       "      <th>Date</th>\n",
       "      <th>CGS_IB_Daily</th>\n",
       "      <th>Day_of_Week</th>\n",
       "      <th>CGS_IB_Daily_Adj</th>\n",
       "    </tr>\n",
       "  </thead>\n",
       "  <tbody>\n",
       "    <tr>\n",
       "      <th>0</th>\n",
       "      <td>2018-10-01</td>\n",
       "      <td>0.0004</td>\n",
       "      <td>Monday</td>\n",
       "      <td>0.0004</td>\n",
       "    </tr>\n",
       "    <tr>\n",
       "      <th>1</th>\n",
       "      <td>2018-10-02</td>\n",
       "      <td>-0.0005</td>\n",
       "      <td>Tuesday</td>\n",
       "      <td>-0.0005</td>\n",
       "    </tr>\n",
       "    <tr>\n",
       "      <th>2</th>\n",
       "      <td>2018-10-03</td>\n",
       "      <td>0.0000</td>\n",
       "      <td>Wednesday</td>\n",
       "      <td>0.0000</td>\n",
       "    </tr>\n",
       "    <tr>\n",
       "      <th>3</th>\n",
       "      <td>2018-10-04</td>\n",
       "      <td>-0.0011</td>\n",
       "      <td>Thursday</td>\n",
       "      <td>-0.0011</td>\n",
       "    </tr>\n",
       "    <tr>\n",
       "      <th>4</th>\n",
       "      <td>2018-10-05</td>\n",
       "      <td>-0.0001</td>\n",
       "      <td>Friday</td>\n",
       "      <td>-0.0001</td>\n",
       "    </tr>\n",
       "  </tbody>\n",
       "</table>\n",
       "</div>"
      ],
      "text/plain": [
       "        Date  CGS_IB_Daily Day_of_Week  CGS_IB_Daily_Adj\n",
       "0 2018-10-01        0.0004      Monday            0.0004\n",
       "1 2018-10-02       -0.0005     Tuesday           -0.0005\n",
       "2 2018-10-03        0.0000   Wednesday            0.0000\n",
       "3 2018-10-04       -0.0011    Thursday           -0.0011\n",
       "4 2018-10-05       -0.0001      Friday           -0.0001"
      ]
     },
     "execution_count": 157,
     "metadata": {},
     "output_type": "execute_result"
    }
   ],
   "source": [
    "data5.head()"
   ]
  },
  {
   "cell_type": "code",
   "execution_count": 158,
   "id": "37ef86c5",
   "metadata": {},
   "outputs": [],
   "source": [
    "data5=data5[['Date','CGS_IB_Daily_Adj']]"
   ]
  },
  {
   "cell_type": "code",
   "execution_count": 159,
   "id": "ec72e3e3",
   "metadata": {},
   "outputs": [],
   "source": [
    "data5['Date']= pd.to_datetime(data5['Date'])"
   ]
  },
  {
   "cell_type": "code",
   "execution_count": 160,
   "id": "79820267",
   "metadata": {},
   "outputs": [],
   "source": [
    "data5.set_index('Date', inplace=True)"
   ]
  },
  {
   "cell_type": "code",
   "execution_count": 161,
   "id": "5a93071a",
   "metadata": {},
   "outputs": [
    {
     "data": {
      "text/plain": [
       "(1414, 1)"
      ]
     },
     "execution_count": 161,
     "metadata": {},
     "output_type": "execute_result"
    }
   ],
   "source": [
    "data5.shape"
   ]
  },
  {
   "cell_type": "code",
   "execution_count": 162,
   "id": "5c1e18c0",
   "metadata": {},
   "outputs": [
    {
     "data": {
      "text/html": [
       "<div>\n",
       "<style scoped>\n",
       "    .dataframe tbody tr th:only-of-type {\n",
       "        vertical-align: middle;\n",
       "    }\n",
       "\n",
       "    .dataframe tbody tr th {\n",
       "        vertical-align: top;\n",
       "    }\n",
       "\n",
       "    .dataframe thead th {\n",
       "        text-align: right;\n",
       "    }\n",
       "</style>\n",
       "<table border=\"1\" class=\"dataframe\">\n",
       "  <thead>\n",
       "    <tr style=\"text-align: right;\">\n",
       "      <th></th>\n",
       "      <th>CGS_IB_Daily_Adj</th>\n",
       "    </tr>\n",
       "    <tr>\n",
       "      <th>Date</th>\n",
       "      <th></th>\n",
       "    </tr>\n",
       "  </thead>\n",
       "  <tbody>\n",
       "    <tr>\n",
       "      <th>2018-10-01</th>\n",
       "      <td>0.0004</td>\n",
       "    </tr>\n",
       "    <tr>\n",
       "      <th>2018-10-02</th>\n",
       "      <td>-0.0005</td>\n",
       "    </tr>\n",
       "    <tr>\n",
       "      <th>2018-10-03</th>\n",
       "      <td>0.0000</td>\n",
       "    </tr>\n",
       "    <tr>\n",
       "      <th>2018-10-04</th>\n",
       "      <td>-0.0011</td>\n",
       "    </tr>\n",
       "    <tr>\n",
       "      <th>2018-10-05</th>\n",
       "      <td>-0.0001</td>\n",
       "    </tr>\n",
       "  </tbody>\n",
       "</table>\n",
       "</div>"
      ],
      "text/plain": [
       "            CGS_IB_Daily_Adj\n",
       "Date                        \n",
       "2018-10-01            0.0004\n",
       "2018-10-02           -0.0005\n",
       "2018-10-03            0.0000\n",
       "2018-10-04           -0.0011\n",
       "2018-10-05           -0.0001"
      ]
     },
     "execution_count": 162,
     "metadata": {},
     "output_type": "execute_result"
    }
   ],
   "source": [
    "data5.head()"
   ]
  },
  {
   "cell_type": "code",
   "execution_count": 163,
   "id": "043e5a32",
   "metadata": {},
   "outputs": [
    {
     "data": {
      "text/plain": [
       "1.54201126324448"
      ]
     },
     "execution_count": 163,
     "metadata": {},
     "output_type": "execute_result"
    }
   ],
   "source": [
    "(1 + data5['CGS_IB_Daily_Adj']).cumprod().iloc[-1]"
   ]
  },
  {
   "cell_type": "code",
   "execution_count": 164,
   "id": "d0213337",
   "metadata": {},
   "outputs": [
    {
     "data": {
      "text/plain": [
       "1.54201126324448"
      ]
     },
     "execution_count": 164,
     "metadata": {},
     "output_type": "execute_result"
    }
   ],
   "source": [
    "(1 + data3['CGS_IB_Daily_Adj']).cumprod().iloc[-1]"
   ]
  },
  {
   "cell_type": "code",
   "execution_count": null,
   "id": "0039235b",
   "metadata": {},
   "outputs": [],
   "source": []
  },
  {
   "cell_type": "code",
   "execution_count": 165,
   "id": "02708337",
   "metadata": {},
   "outputs": [],
   "source": [
    "CGS_Official_M = data_M[['Date','CGS_Net_Admin_Monthly']]"
   ]
  },
  {
   "cell_type": "code",
   "execution_count": 166,
   "id": "7798c205",
   "metadata": {},
   "outputs": [
    {
     "data": {
      "text/plain": [
       "(65, 2)"
      ]
     },
     "execution_count": 166,
     "metadata": {},
     "output_type": "execute_result"
    }
   ],
   "source": [
    "CGS_Official_M.shape"
   ]
  },
  {
   "cell_type": "code",
   "execution_count": 167,
   "id": "87b60dc9",
   "metadata": {},
   "outputs": [
    {
     "name": "stderr",
     "output_type": "stream",
     "text": [
      "C:\\Users\\VEDANT~1\\AppData\\Local\\Temp/ipykernel_13748/2468456710.py:1: SettingWithCopyWarning: \n",
      "A value is trying to be set on a copy of a slice from a DataFrame.\n",
      "Try using .loc[row_indexer,col_indexer] = value instead\n",
      "\n",
      "See the caveats in the documentation: https://pandas.pydata.org/pandas-docs/stable/user_guide/indexing.html#returning-a-view-versus-a-copy\n",
      "  CGS_Official_M['Date'] = pd.to_datetime(CGS_Official_M['Date'], format='%d-%m-%Y')\n"
     ]
    }
   ],
   "source": [
    "CGS_Official_M['Date'] = pd.to_datetime(CGS_Official_M['Date'], format='%d-%m-%Y')"
   ]
  },
  {
   "cell_type": "code",
   "execution_count": 168,
   "id": "d4a0fa49",
   "metadata": {},
   "outputs": [],
   "source": [
    "CGS_Official_M.set_index('Date', inplace=True)"
   ]
  },
  {
   "cell_type": "code",
   "execution_count": 169,
   "id": "969db897",
   "metadata": {
    "scrolled": true
   },
   "outputs": [
    {
     "data": {
      "text/html": [
       "<div>\n",
       "<style scoped>\n",
       "    .dataframe tbody tr th:only-of-type {\n",
       "        vertical-align: middle;\n",
       "    }\n",
       "\n",
       "    .dataframe tbody tr th {\n",
       "        vertical-align: top;\n",
       "    }\n",
       "\n",
       "    .dataframe thead th {\n",
       "        text-align: right;\n",
       "    }\n",
       "</style>\n",
       "<table border=\"1\" class=\"dataframe\">\n",
       "  <thead>\n",
       "    <tr style=\"text-align: right;\">\n",
       "      <th></th>\n",
       "      <th>CGS_Net_Admin_Monthly</th>\n",
       "    </tr>\n",
       "    <tr>\n",
       "      <th>Date</th>\n",
       "      <th></th>\n",
       "    </tr>\n",
       "  </thead>\n",
       "  <tbody>\n",
       "    <tr>\n",
       "      <th>2018-10-31</th>\n",
       "      <td>-0.049726</td>\n",
       "    </tr>\n",
       "    <tr>\n",
       "      <th>2018-11-30</th>\n",
       "      <td>0.003295</td>\n",
       "    </tr>\n",
       "    <tr>\n",
       "      <th>2018-12-31</th>\n",
       "      <td>-0.025774</td>\n",
       "    </tr>\n",
       "    <tr>\n",
       "      <th>2019-01-31</th>\n",
       "      <td>0.072237</td>\n",
       "    </tr>\n",
       "    <tr>\n",
       "      <th>2019-02-28</th>\n",
       "      <td>0.014037</td>\n",
       "    </tr>\n",
       "  </tbody>\n",
       "</table>\n",
       "</div>"
      ],
      "text/plain": [
       "            CGS_Net_Admin_Monthly\n",
       "Date                             \n",
       "2018-10-31              -0.049726\n",
       "2018-11-30               0.003295\n",
       "2018-12-31              -0.025774\n",
       "2019-01-31               0.072237\n",
       "2019-02-28               0.014037"
      ]
     },
     "execution_count": 169,
     "metadata": {},
     "output_type": "execute_result"
    }
   ],
   "source": [
    "CGS_Official_M.head()"
   ]
  },
  {
   "cell_type": "code",
   "execution_count": 170,
   "id": "db688316",
   "metadata": {},
   "outputs": [
    {
     "data": {
      "text/plain": [
       "1.6659460753462085"
      ]
     },
     "execution_count": 170,
     "metadata": {},
     "output_type": "execute_result"
    }
   ],
   "source": [
    "(1 + CGS_Official_M['CGS_Net_Admin_Monthly']).cumprod().iloc[-1]"
   ]
  },
  {
   "cell_type": "code",
   "execution_count": 171,
   "id": "3edeb79b",
   "metadata": {},
   "outputs": [
    {
     "data": {
      "text/plain": [
       "1.6659460753462085"
      ]
     },
     "execution_count": 171,
     "metadata": {},
     "output_type": "execute_result"
    }
   ],
   "source": [
    "(1 + data_M['CGS_Net_Admin_Monthly']).cumprod().iloc[-1]"
   ]
  },
  {
   "cell_type": "code",
   "execution_count": null,
   "id": "1d5b5b21",
   "metadata": {},
   "outputs": [],
   "source": []
  },
  {
   "cell_type": "code",
   "execution_count": 172,
   "id": "f2d82a14",
   "metadata": {},
   "outputs": [],
   "source": [
    "# The codes below till the next .head() have arrived out of a lot of figuring out. Have removed the .head() to save space."
   ]
  },
  {
   "cell_type": "code",
   "execution_count": null,
   "id": "ab02fb03",
   "metadata": {},
   "outputs": [],
   "source": [
    " "
   ]
  },
  {
   "cell_type": "code",
   "execution_count": 173,
   "id": "9ce6ca00",
   "metadata": {},
   "outputs": [],
   "source": [
    "data5['Cumulative_Return_Daily'] = (1 + data5['CGS_IB_Daily_Adj']).groupby(pd.Grouper(freq='M')).cumprod()-1"
   ]
  },
  {
   "cell_type": "code",
   "execution_count": 174,
   "id": "35e55b4d",
   "metadata": {},
   "outputs": [],
   "source": [
    "data5['Scaling_Factor'] = ((1+CGS_Official_M['CGS_Net_Admin_Monthly']) / (1+data5['Cumulative_Return_Daily']))\n",
    "data5['Scaling_Factor'] = data5['Scaling_Factor'].fillna(method='bfill')"
   ]
  },
  {
   "cell_type": "code",
   "execution_count": null,
   "id": "71b5b958",
   "metadata": {},
   "outputs": [],
   "source": []
  },
  {
   "cell_type": "code",
   "execution_count": 175,
   "id": "b7b2ea75",
   "metadata": {},
   "outputs": [],
   "source": [
    "data5.reset_index(inplace=True)\n",
    "data5['Month'] = data5['Date'].dt.month\n",
    "data5['Year'] = data5['Date'].dt.year\n",
    "data5['Days_in_Month_Year'] = data5.groupby(['Year', 'Month'])['Date'].transform('count')"
   ]
  },
  {
   "cell_type": "code",
   "execution_count": null,
   "id": "bac06882",
   "metadata": {},
   "outputs": [],
   "source": []
  },
  {
   "cell_type": "code",
   "execution_count": 176,
   "id": "749dfdbc",
   "metadata": {},
   "outputs": [],
   "source": [
    "data5['Scaling_Factor_2.0'] = (data5['Scaling_Factor'] ** (1/data5['Days_in_Month_Year']))-1"
   ]
  },
  {
   "cell_type": "code",
   "execution_count": 177,
   "id": "16e6e8a4",
   "metadata": {},
   "outputs": [],
   "source": [
    "data5['CGS_IB_&_Official_Daily_Adj'] = data5['CGS_IB_Daily_Adj'] + data5['Scaling_Factor_2.0']"
   ]
  },
  {
   "cell_type": "code",
   "execution_count": 178,
   "id": "331e1002",
   "metadata": {},
   "outputs": [],
   "source": [
    "data5.set_index('Date', inplace=True)"
   ]
  },
  {
   "cell_type": "code",
   "execution_count": 179,
   "id": "5a20ee14",
   "metadata": {
    "scrolled": true
   },
   "outputs": [
    {
     "data": {
      "text/html": [
       "<div>\n",
       "<style scoped>\n",
       "    .dataframe tbody tr th:only-of-type {\n",
       "        vertical-align: middle;\n",
       "    }\n",
       "\n",
       "    .dataframe tbody tr th {\n",
       "        vertical-align: top;\n",
       "    }\n",
       "\n",
       "    .dataframe thead th {\n",
       "        text-align: right;\n",
       "    }\n",
       "</style>\n",
       "<table border=\"1\" class=\"dataframe\">\n",
       "  <thead>\n",
       "    <tr style=\"text-align: right;\">\n",
       "      <th></th>\n",
       "      <th>CGS_IB_Daily_Adj</th>\n",
       "      <th>Cumulative_Return_Daily</th>\n",
       "      <th>Scaling_Factor</th>\n",
       "      <th>Month</th>\n",
       "      <th>Year</th>\n",
       "      <th>Days_in_Month_Year</th>\n",
       "      <th>Scaling_Factor_2.0</th>\n",
       "      <th>CGS_IB_&amp;_Official_Daily_Adj</th>\n",
       "    </tr>\n",
       "    <tr>\n",
       "      <th>Date</th>\n",
       "      <th></th>\n",
       "      <th></th>\n",
       "      <th></th>\n",
       "      <th></th>\n",
       "      <th></th>\n",
       "      <th></th>\n",
       "      <th></th>\n",
       "      <th></th>\n",
       "    </tr>\n",
       "  </thead>\n",
       "  <tbody>\n",
       "    <tr>\n",
       "      <th>2024-01-05</th>\n",
       "      <td>-0.0031</td>\n",
       "      <td>-0.003029</td>\n",
       "      <td>1.001173</td>\n",
       "      <td>1</td>\n",
       "      <td>2024</td>\n",
       "      <td>23</td>\n",
       "      <td>0.000051</td>\n",
       "      <td>-0.003049</td>\n",
       "    </tr>\n",
       "    <tr>\n",
       "      <th>2024-01-08</th>\n",
       "      <td>-0.0052</td>\n",
       "      <td>-0.008214</td>\n",
       "      <td>1.001173</td>\n",
       "      <td>1</td>\n",
       "      <td>2024</td>\n",
       "      <td>23</td>\n",
       "      <td>0.000051</td>\n",
       "      <td>-0.005149</td>\n",
       "    </tr>\n",
       "    <tr>\n",
       "      <th>2024-01-09</th>\n",
       "      <td>-0.0026</td>\n",
       "      <td>-0.010792</td>\n",
       "      <td>1.001173</td>\n",
       "      <td>1</td>\n",
       "      <td>2024</td>\n",
       "      <td>23</td>\n",
       "      <td>0.000051</td>\n",
       "      <td>-0.002549</td>\n",
       "    </tr>\n",
       "    <tr>\n",
       "      <th>2024-01-10</th>\n",
       "      <td>0.0055</td>\n",
       "      <td>-0.005352</td>\n",
       "      <td>1.001173</td>\n",
       "      <td>1</td>\n",
       "      <td>2024</td>\n",
       "      <td>23</td>\n",
       "      <td>0.000051</td>\n",
       "      <td>0.005551</td>\n",
       "    </tr>\n",
       "    <tr>\n",
       "      <th>2024-01-11</th>\n",
       "      <td>0.0082</td>\n",
       "      <td>0.002804</td>\n",
       "      <td>1.001173</td>\n",
       "      <td>1</td>\n",
       "      <td>2024</td>\n",
       "      <td>23</td>\n",
       "      <td>0.000051</td>\n",
       "      <td>0.008251</td>\n",
       "    </tr>\n",
       "    <tr>\n",
       "      <th>2024-01-12</th>\n",
       "      <td>0.0075</td>\n",
       "      <td>0.010326</td>\n",
       "      <td>1.001173</td>\n",
       "      <td>1</td>\n",
       "      <td>2024</td>\n",
       "      <td>23</td>\n",
       "      <td>0.000051</td>\n",
       "      <td>0.007551</td>\n",
       "    </tr>\n",
       "    <tr>\n",
       "      <th>2024-01-15</th>\n",
       "      <td>0.0011</td>\n",
       "      <td>0.011437</td>\n",
       "      <td>1.001173</td>\n",
       "      <td>1</td>\n",
       "      <td>2024</td>\n",
       "      <td>23</td>\n",
       "      <td>0.000051</td>\n",
       "      <td>0.001151</td>\n",
       "    </tr>\n",
       "    <tr>\n",
       "      <th>2024-01-16</th>\n",
       "      <td>0.0025</td>\n",
       "      <td>0.013965</td>\n",
       "      <td>1.001173</td>\n",
       "      <td>1</td>\n",
       "      <td>2024</td>\n",
       "      <td>23</td>\n",
       "      <td>0.000051</td>\n",
       "      <td>0.002551</td>\n",
       "    </tr>\n",
       "    <tr>\n",
       "      <th>2024-01-17</th>\n",
       "      <td>0.0036</td>\n",
       "      <td>0.017616</td>\n",
       "      <td>1.001173</td>\n",
       "      <td>1</td>\n",
       "      <td>2024</td>\n",
       "      <td>23</td>\n",
       "      <td>0.000051</td>\n",
       "      <td>0.003651</td>\n",
       "    </tr>\n",
       "    <tr>\n",
       "      <th>2024-01-18</th>\n",
       "      <td>0.0071</td>\n",
       "      <td>0.024841</td>\n",
       "      <td>1.001173</td>\n",
       "      <td>1</td>\n",
       "      <td>2024</td>\n",
       "      <td>23</td>\n",
       "      <td>0.000051</td>\n",
       "      <td>0.007151</td>\n",
       "    </tr>\n",
       "    <tr>\n",
       "      <th>2024-01-19</th>\n",
       "      <td>0.0048</td>\n",
       "      <td>0.029760</td>\n",
       "      <td>1.001173</td>\n",
       "      <td>1</td>\n",
       "      <td>2024</td>\n",
       "      <td>23</td>\n",
       "      <td>0.000051</td>\n",
       "      <td>0.004851</td>\n",
       "    </tr>\n",
       "    <tr>\n",
       "      <th>2024-01-22</th>\n",
       "      <td>0.0008</td>\n",
       "      <td>0.030584</td>\n",
       "      <td>1.001173</td>\n",
       "      <td>1</td>\n",
       "      <td>2024</td>\n",
       "      <td>23</td>\n",
       "      <td>0.000051</td>\n",
       "      <td>0.000851</td>\n",
       "    </tr>\n",
       "    <tr>\n",
       "      <th>2024-01-23</th>\n",
       "      <td>-0.0076</td>\n",
       "      <td>0.022751</td>\n",
       "      <td>1.001173</td>\n",
       "      <td>1</td>\n",
       "      <td>2024</td>\n",
       "      <td>23</td>\n",
       "      <td>0.000051</td>\n",
       "      <td>-0.007549</td>\n",
       "    </tr>\n",
       "    <tr>\n",
       "      <th>2024-01-24</th>\n",
       "      <td>0.0043</td>\n",
       "      <td>0.027149</td>\n",
       "      <td>1.001173</td>\n",
       "      <td>1</td>\n",
       "      <td>2024</td>\n",
       "      <td>23</td>\n",
       "      <td>0.000051</td>\n",
       "      <td>0.004351</td>\n",
       "    </tr>\n",
       "    <tr>\n",
       "      <th>2024-01-25</th>\n",
       "      <td>0.0055</td>\n",
       "      <td>0.032799</td>\n",
       "      <td>1.001173</td>\n",
       "      <td>1</td>\n",
       "      <td>2024</td>\n",
       "      <td>23</td>\n",
       "      <td>0.000051</td>\n",
       "      <td>0.005551</td>\n",
       "    </tr>\n",
       "    <tr>\n",
       "      <th>2024-01-26</th>\n",
       "      <td>0.0002</td>\n",
       "      <td>0.033005</td>\n",
       "      <td>1.001173</td>\n",
       "      <td>1</td>\n",
       "      <td>2024</td>\n",
       "      <td>23</td>\n",
       "      <td>0.000051</td>\n",
       "      <td>0.000251</td>\n",
       "    </tr>\n",
       "    <tr>\n",
       "      <th>2024-01-29</th>\n",
       "      <td>-0.0033</td>\n",
       "      <td>0.029597</td>\n",
       "      <td>1.001173</td>\n",
       "      <td>1</td>\n",
       "      <td>2024</td>\n",
       "      <td>23</td>\n",
       "      <td>0.000051</td>\n",
       "      <td>-0.003249</td>\n",
       "    </tr>\n",
       "    <tr>\n",
       "      <th>2024-01-30</th>\n",
       "      <td>0.0136</td>\n",
       "      <td>0.043599</td>\n",
       "      <td>1.001173</td>\n",
       "      <td>1</td>\n",
       "      <td>2024</td>\n",
       "      <td>23</td>\n",
       "      <td>0.000051</td>\n",
       "      <td>0.013651</td>\n",
       "    </tr>\n",
       "    <tr>\n",
       "      <th>2024-01-31</th>\n",
       "      <td>-0.0038</td>\n",
       "      <td>0.039633</td>\n",
       "      <td>1.001173</td>\n",
       "      <td>1</td>\n",
       "      <td>2024</td>\n",
       "      <td>23</td>\n",
       "      <td>0.000051</td>\n",
       "      <td>-0.003749</td>\n",
       "    </tr>\n",
       "    <tr>\n",
       "      <th>2024-02-01</th>\n",
       "      <td>0.0015</td>\n",
       "      <td>0.001500</td>\n",
       "      <td>1.002812</td>\n",
       "      <td>2</td>\n",
       "      <td>2024</td>\n",
       "      <td>21</td>\n",
       "      <td>0.000134</td>\n",
       "      <td>0.001634</td>\n",
       "    </tr>\n",
       "    <tr>\n",
       "      <th>2024-02-02</th>\n",
       "      <td>0.0049</td>\n",
       "      <td>0.006407</td>\n",
       "      <td>1.002812</td>\n",
       "      <td>2</td>\n",
       "      <td>2024</td>\n",
       "      <td>21</td>\n",
       "      <td>0.000134</td>\n",
       "      <td>0.005034</td>\n",
       "    </tr>\n",
       "    <tr>\n",
       "      <th>2024-02-05</th>\n",
       "      <td>-0.0013</td>\n",
       "      <td>0.005099</td>\n",
       "      <td>1.002812</td>\n",
       "      <td>2</td>\n",
       "      <td>2024</td>\n",
       "      <td>21</td>\n",
       "      <td>0.000134</td>\n",
       "      <td>-0.001166</td>\n",
       "    </tr>\n",
       "    <tr>\n",
       "      <th>2024-02-06</th>\n",
       "      <td>-0.0055</td>\n",
       "      <td>-0.000429</td>\n",
       "      <td>1.002812</td>\n",
       "      <td>2</td>\n",
       "      <td>2024</td>\n",
       "      <td>21</td>\n",
       "      <td>0.000134</td>\n",
       "      <td>-0.005366</td>\n",
       "    </tr>\n",
       "    <tr>\n",
       "      <th>2024-02-07</th>\n",
       "      <td>0.0092</td>\n",
       "      <td>0.008767</td>\n",
       "      <td>1.002812</td>\n",
       "      <td>2</td>\n",
       "      <td>2024</td>\n",
       "      <td>21</td>\n",
       "      <td>0.000134</td>\n",
       "      <td>0.009334</td>\n",
       "    </tr>\n",
       "    <tr>\n",
       "      <th>2024-02-08</th>\n",
       "      <td>0.0016</td>\n",
       "      <td>0.010381</td>\n",
       "      <td>1.002812</td>\n",
       "      <td>2</td>\n",
       "      <td>2024</td>\n",
       "      <td>21</td>\n",
       "      <td>0.000134</td>\n",
       "      <td>0.001734</td>\n",
       "    </tr>\n",
       "    <tr>\n",
       "      <th>2024-02-09</th>\n",
       "      <td>0.0053</td>\n",
       "      <td>0.015736</td>\n",
       "      <td>1.002812</td>\n",
       "      <td>2</td>\n",
       "      <td>2024</td>\n",
       "      <td>21</td>\n",
       "      <td>0.000134</td>\n",
       "      <td>0.005434</td>\n",
       "    </tr>\n",
       "    <tr>\n",
       "      <th>2024-02-12</th>\n",
       "      <td>-0.0012</td>\n",
       "      <td>0.014517</td>\n",
       "      <td>1.002812</td>\n",
       "      <td>2</td>\n",
       "      <td>2024</td>\n",
       "      <td>21</td>\n",
       "      <td>0.000134</td>\n",
       "      <td>-0.001066</td>\n",
       "    </tr>\n",
       "    <tr>\n",
       "      <th>2024-02-13</th>\n",
       "      <td>-0.0093</td>\n",
       "      <td>0.005082</td>\n",
       "      <td>1.002812</td>\n",
       "      <td>2</td>\n",
       "      <td>2024</td>\n",
       "      <td>21</td>\n",
       "      <td>0.000134</td>\n",
       "      <td>-0.009166</td>\n",
       "    </tr>\n",
       "    <tr>\n",
       "      <th>2024-02-14</th>\n",
       "      <td>0.0072</td>\n",
       "      <td>0.012319</td>\n",
       "      <td>1.002812</td>\n",
       "      <td>2</td>\n",
       "      <td>2024</td>\n",
       "      <td>21</td>\n",
       "      <td>0.000134</td>\n",
       "      <td>0.007334</td>\n",
       "    </tr>\n",
       "    <tr>\n",
       "      <th>2024-02-15</th>\n",
       "      <td>0.0050</td>\n",
       "      <td>0.017380</td>\n",
       "      <td>1.002812</td>\n",
       "      <td>2</td>\n",
       "      <td>2024</td>\n",
       "      <td>21</td>\n",
       "      <td>0.000134</td>\n",
       "      <td>0.005134</td>\n",
       "    </tr>\n",
       "    <tr>\n",
       "      <th>2024-02-16</th>\n",
       "      <td>-0.0078</td>\n",
       "      <td>0.009445</td>\n",
       "      <td>1.002812</td>\n",
       "      <td>2</td>\n",
       "      <td>2024</td>\n",
       "      <td>21</td>\n",
       "      <td>0.000134</td>\n",
       "      <td>-0.007666</td>\n",
       "    </tr>\n",
       "    <tr>\n",
       "      <th>2024-02-19</th>\n",
       "      <td>0.0038</td>\n",
       "      <td>0.013281</td>\n",
       "      <td>1.002812</td>\n",
       "      <td>2</td>\n",
       "      <td>2024</td>\n",
       "      <td>21</td>\n",
       "      <td>0.000134</td>\n",
       "      <td>0.003934</td>\n",
       "    </tr>\n",
       "    <tr>\n",
       "      <th>2024-02-20</th>\n",
       "      <td>0.0000</td>\n",
       "      <td>0.013281</td>\n",
       "      <td>1.002812</td>\n",
       "      <td>2</td>\n",
       "      <td>2024</td>\n",
       "      <td>21</td>\n",
       "      <td>0.000134</td>\n",
       "      <td>0.000134</td>\n",
       "    </tr>\n",
       "    <tr>\n",
       "      <th>2024-02-21</th>\n",
       "      <td>0.0024</td>\n",
       "      <td>0.015713</td>\n",
       "      <td>1.002812</td>\n",
       "      <td>2</td>\n",
       "      <td>2024</td>\n",
       "      <td>21</td>\n",
       "      <td>0.000134</td>\n",
       "      <td>0.002534</td>\n",
       "    </tr>\n",
       "    <tr>\n",
       "      <th>2024-02-22</th>\n",
       "      <td>0.0135</td>\n",
       "      <td>0.029425</td>\n",
       "      <td>1.002812</td>\n",
       "      <td>2</td>\n",
       "      <td>2024</td>\n",
       "      <td>21</td>\n",
       "      <td>0.000134</td>\n",
       "      <td>0.013634</td>\n",
       "    </tr>\n",
       "    <tr>\n",
       "      <th>2024-02-23</th>\n",
       "      <td>0.0078</td>\n",
       "      <td>0.037454</td>\n",
       "      <td>1.002812</td>\n",
       "      <td>2</td>\n",
       "      <td>2024</td>\n",
       "      <td>21</td>\n",
       "      <td>0.000134</td>\n",
       "      <td>0.007934</td>\n",
       "    </tr>\n",
       "    <tr>\n",
       "      <th>2024-02-26</th>\n",
       "      <td>0.0016</td>\n",
       "      <td>0.039114</td>\n",
       "      <td>1.002812</td>\n",
       "      <td>2</td>\n",
       "      <td>2024</td>\n",
       "      <td>21</td>\n",
       "      <td>0.000134</td>\n",
       "      <td>0.001734</td>\n",
       "    </tr>\n",
       "    <tr>\n",
       "      <th>2024-02-27</th>\n",
       "      <td>-0.0082</td>\n",
       "      <td>0.030594</td>\n",
       "      <td>1.002812</td>\n",
       "      <td>2</td>\n",
       "      <td>2024</td>\n",
       "      <td>21</td>\n",
       "      <td>0.000134</td>\n",
       "      <td>-0.008066</td>\n",
       "    </tr>\n",
       "    <tr>\n",
       "      <th>2024-02-28</th>\n",
       "      <td>0.0015</td>\n",
       "      <td>0.032140</td>\n",
       "      <td>1.002812</td>\n",
       "      <td>2</td>\n",
       "      <td>2024</td>\n",
       "      <td>21</td>\n",
       "      <td>0.000134</td>\n",
       "      <td>0.001634</td>\n",
       "    </tr>\n",
       "    <tr>\n",
       "      <th>2024-02-29</th>\n",
       "      <td>0.0061</td>\n",
       "      <td>0.038436</td>\n",
       "      <td>1.002812</td>\n",
       "      <td>2</td>\n",
       "      <td>2024</td>\n",
       "      <td>21</td>\n",
       "      <td>0.000134</td>\n",
       "      <td>0.006234</td>\n",
       "    </tr>\n",
       "  </tbody>\n",
       "</table>\n",
       "</div>"
      ],
      "text/plain": [
       "            CGS_IB_Daily_Adj  Cumulative_Return_Daily  Scaling_Factor  Month  \\\n",
       "Date                                                                           \n",
       "2024-01-05           -0.0031                -0.003029        1.001173      1   \n",
       "2024-01-08           -0.0052                -0.008214        1.001173      1   \n",
       "2024-01-09           -0.0026                -0.010792        1.001173      1   \n",
       "2024-01-10            0.0055                -0.005352        1.001173      1   \n",
       "2024-01-11            0.0082                 0.002804        1.001173      1   \n",
       "2024-01-12            0.0075                 0.010326        1.001173      1   \n",
       "2024-01-15            0.0011                 0.011437        1.001173      1   \n",
       "2024-01-16            0.0025                 0.013965        1.001173      1   \n",
       "2024-01-17            0.0036                 0.017616        1.001173      1   \n",
       "2024-01-18            0.0071                 0.024841        1.001173      1   \n",
       "2024-01-19            0.0048                 0.029760        1.001173      1   \n",
       "2024-01-22            0.0008                 0.030584        1.001173      1   \n",
       "2024-01-23           -0.0076                 0.022751        1.001173      1   \n",
       "2024-01-24            0.0043                 0.027149        1.001173      1   \n",
       "2024-01-25            0.0055                 0.032799        1.001173      1   \n",
       "2024-01-26            0.0002                 0.033005        1.001173      1   \n",
       "2024-01-29           -0.0033                 0.029597        1.001173      1   \n",
       "2024-01-30            0.0136                 0.043599        1.001173      1   \n",
       "2024-01-31           -0.0038                 0.039633        1.001173      1   \n",
       "2024-02-01            0.0015                 0.001500        1.002812      2   \n",
       "2024-02-02            0.0049                 0.006407        1.002812      2   \n",
       "2024-02-05           -0.0013                 0.005099        1.002812      2   \n",
       "2024-02-06           -0.0055                -0.000429        1.002812      2   \n",
       "2024-02-07            0.0092                 0.008767        1.002812      2   \n",
       "2024-02-08            0.0016                 0.010381        1.002812      2   \n",
       "2024-02-09            0.0053                 0.015736        1.002812      2   \n",
       "2024-02-12           -0.0012                 0.014517        1.002812      2   \n",
       "2024-02-13           -0.0093                 0.005082        1.002812      2   \n",
       "2024-02-14            0.0072                 0.012319        1.002812      2   \n",
       "2024-02-15            0.0050                 0.017380        1.002812      2   \n",
       "2024-02-16           -0.0078                 0.009445        1.002812      2   \n",
       "2024-02-19            0.0038                 0.013281        1.002812      2   \n",
       "2024-02-20            0.0000                 0.013281        1.002812      2   \n",
       "2024-02-21            0.0024                 0.015713        1.002812      2   \n",
       "2024-02-22            0.0135                 0.029425        1.002812      2   \n",
       "2024-02-23            0.0078                 0.037454        1.002812      2   \n",
       "2024-02-26            0.0016                 0.039114        1.002812      2   \n",
       "2024-02-27           -0.0082                 0.030594        1.002812      2   \n",
       "2024-02-28            0.0015                 0.032140        1.002812      2   \n",
       "2024-02-29            0.0061                 0.038436        1.002812      2   \n",
       "\n",
       "            Year  Days_in_Month_Year  Scaling_Factor_2.0  \\\n",
       "Date                                                       \n",
       "2024-01-05  2024                  23            0.000051   \n",
       "2024-01-08  2024                  23            0.000051   \n",
       "2024-01-09  2024                  23            0.000051   \n",
       "2024-01-10  2024                  23            0.000051   \n",
       "2024-01-11  2024                  23            0.000051   \n",
       "2024-01-12  2024                  23            0.000051   \n",
       "2024-01-15  2024                  23            0.000051   \n",
       "2024-01-16  2024                  23            0.000051   \n",
       "2024-01-17  2024                  23            0.000051   \n",
       "2024-01-18  2024                  23            0.000051   \n",
       "2024-01-19  2024                  23            0.000051   \n",
       "2024-01-22  2024                  23            0.000051   \n",
       "2024-01-23  2024                  23            0.000051   \n",
       "2024-01-24  2024                  23            0.000051   \n",
       "2024-01-25  2024                  23            0.000051   \n",
       "2024-01-26  2024                  23            0.000051   \n",
       "2024-01-29  2024                  23            0.000051   \n",
       "2024-01-30  2024                  23            0.000051   \n",
       "2024-01-31  2024                  23            0.000051   \n",
       "2024-02-01  2024                  21            0.000134   \n",
       "2024-02-02  2024                  21            0.000134   \n",
       "2024-02-05  2024                  21            0.000134   \n",
       "2024-02-06  2024                  21            0.000134   \n",
       "2024-02-07  2024                  21            0.000134   \n",
       "2024-02-08  2024                  21            0.000134   \n",
       "2024-02-09  2024                  21            0.000134   \n",
       "2024-02-12  2024                  21            0.000134   \n",
       "2024-02-13  2024                  21            0.000134   \n",
       "2024-02-14  2024                  21            0.000134   \n",
       "2024-02-15  2024                  21            0.000134   \n",
       "2024-02-16  2024                  21            0.000134   \n",
       "2024-02-19  2024                  21            0.000134   \n",
       "2024-02-20  2024                  21            0.000134   \n",
       "2024-02-21  2024                  21            0.000134   \n",
       "2024-02-22  2024                  21            0.000134   \n",
       "2024-02-23  2024                  21            0.000134   \n",
       "2024-02-26  2024                  21            0.000134   \n",
       "2024-02-27  2024                  21            0.000134   \n",
       "2024-02-28  2024                  21            0.000134   \n",
       "2024-02-29  2024                  21            0.000134   \n",
       "\n",
       "            CGS_IB_&_Official_Daily_Adj  \n",
       "Date                                     \n",
       "2024-01-05                    -0.003049  \n",
       "2024-01-08                    -0.005149  \n",
       "2024-01-09                    -0.002549  \n",
       "2024-01-10                     0.005551  \n",
       "2024-01-11                     0.008251  \n",
       "2024-01-12                     0.007551  \n",
       "2024-01-15                     0.001151  \n",
       "2024-01-16                     0.002551  \n",
       "2024-01-17                     0.003651  \n",
       "2024-01-18                     0.007151  \n",
       "2024-01-19                     0.004851  \n",
       "2024-01-22                     0.000851  \n",
       "2024-01-23                    -0.007549  \n",
       "2024-01-24                     0.004351  \n",
       "2024-01-25                     0.005551  \n",
       "2024-01-26                     0.000251  \n",
       "2024-01-29                    -0.003249  \n",
       "2024-01-30                     0.013651  \n",
       "2024-01-31                    -0.003749  \n",
       "2024-02-01                     0.001634  \n",
       "2024-02-02                     0.005034  \n",
       "2024-02-05                    -0.001166  \n",
       "2024-02-06                    -0.005366  \n",
       "2024-02-07                     0.009334  \n",
       "2024-02-08                     0.001734  \n",
       "2024-02-09                     0.005434  \n",
       "2024-02-12                    -0.001066  \n",
       "2024-02-13                    -0.009166  \n",
       "2024-02-14                     0.007334  \n",
       "2024-02-15                     0.005134  \n",
       "2024-02-16                    -0.007666  \n",
       "2024-02-19                     0.003934  \n",
       "2024-02-20                     0.000134  \n",
       "2024-02-21                     0.002534  \n",
       "2024-02-22                     0.013634  \n",
       "2024-02-23                     0.007934  \n",
       "2024-02-26                     0.001734  \n",
       "2024-02-27                    -0.008066  \n",
       "2024-02-28                     0.001634  \n",
       "2024-02-29                     0.006234  "
      ]
     },
     "execution_count": 179,
     "metadata": {},
     "output_type": "execute_result"
    }
   ],
   "source": [
    "data5.tail(40)"
   ]
  },
  {
   "cell_type": "code",
   "execution_count": 180,
   "id": "d7532839",
   "metadata": {},
   "outputs": [
    {
     "data": {
      "text/html": [
       "<div>\n",
       "<style scoped>\n",
       "    .dataframe tbody tr th:only-of-type {\n",
       "        vertical-align: middle;\n",
       "    }\n",
       "\n",
       "    .dataframe tbody tr th {\n",
       "        vertical-align: top;\n",
       "    }\n",
       "\n",
       "    .dataframe thead th {\n",
       "        text-align: right;\n",
       "    }\n",
       "</style>\n",
       "<table border=\"1\" class=\"dataframe\">\n",
       "  <thead>\n",
       "    <tr style=\"text-align: right;\">\n",
       "      <th></th>\n",
       "      <th>CGS_IB_Daily_Adj</th>\n",
       "      <th>Cumulative_Return_Daily</th>\n",
       "      <th>Scaling_Factor</th>\n",
       "      <th>Month</th>\n",
       "      <th>Year</th>\n",
       "      <th>Days_in_Month_Year</th>\n",
       "      <th>Scaling_Factor_2.0</th>\n",
       "      <th>CGS_IB_&amp;_Official_Daily_Adj</th>\n",
       "    </tr>\n",
       "    <tr>\n",
       "      <th>Date</th>\n",
       "      <th></th>\n",
       "      <th></th>\n",
       "      <th></th>\n",
       "      <th></th>\n",
       "      <th></th>\n",
       "      <th></th>\n",
       "      <th></th>\n",
       "      <th></th>\n",
       "    </tr>\n",
       "  </thead>\n",
       "  <tbody>\n",
       "  </tbody>\n",
       "</table>\n",
       "</div>"
      ],
      "text/plain": [
       "Empty DataFrame\n",
       "Columns: [CGS_IB_Daily_Adj, Cumulative_Return_Daily, Scaling_Factor, Month, Year, Days_in_Month_Year, Scaling_Factor_2.0, CGS_IB_&_Official_Daily_Adj]\n",
       "Index: []"
      ]
     },
     "execution_count": 180,
     "metadata": {},
     "output_type": "execute_result"
    }
   ],
   "source": [
    "data5.tail(0)"
   ]
  },
  {
   "cell_type": "code",
   "execution_count": null,
   "id": "7f806528",
   "metadata": {},
   "outputs": [],
   "source": []
  },
  {
   "cell_type": "code",
   "execution_count": null,
   "id": "2adfca56",
   "metadata": {
    "scrolled": true
   },
   "outputs": [],
   "source": []
  },
  {
   "cell_type": "code",
   "execution_count": 181,
   "id": "dd6950ea",
   "metadata": {},
   "outputs": [
    {
     "data": {
      "text/plain": [
       "1.54201126324448"
      ]
     },
     "execution_count": 181,
     "metadata": {},
     "output_type": "execute_result"
    }
   ],
   "source": [
    "(1 + data3['CGS_IB_Daily_Adj']).cumprod().iloc[-1]"
   ]
  },
  {
   "cell_type": "code",
   "execution_count": 182,
   "id": "e5673d64",
   "metadata": {},
   "outputs": [
    {
     "data": {
      "text/plain": [
       "1.54201126324448"
      ]
     },
     "execution_count": 182,
     "metadata": {},
     "output_type": "execute_result"
    }
   ],
   "source": [
    "(1 + data5['CGS_IB_Daily_Adj']).cumprod().iloc[-1]"
   ]
  },
  {
   "cell_type": "code",
   "execution_count": 183,
   "id": "57c735ae",
   "metadata": {},
   "outputs": [
    {
     "data": {
      "text/plain": [
       "1.6659460753462085"
      ]
     },
     "execution_count": 183,
     "metadata": {},
     "output_type": "execute_result"
    }
   ],
   "source": [
    "(1 + CGS_Official_M['CGS_Net_Admin_Monthly']).cumprod().iloc[-1]"
   ]
  },
  {
   "cell_type": "code",
   "execution_count": 184,
   "id": "ac3e6f3b",
   "metadata": {},
   "outputs": [
    {
     "data": {
      "text/plain": [
       "1.6679028782321335"
      ]
     },
     "execution_count": 184,
     "metadata": {},
     "output_type": "execute_result"
    }
   ],
   "source": [
    "(1 + data5['CGS_IB_&_Official_Daily_Adj']).cumprod().iloc[-1]"
   ]
  },
  {
   "cell_type": "code",
   "execution_count": null,
   "id": "d0ad597b",
   "metadata": {},
   "outputs": [],
   "source": []
  },
  {
   "cell_type": "code",
   "execution_count": null,
   "id": "d11cb9f4",
   "metadata": {},
   "outputs": [],
   "source": []
  },
  {
   "cell_type": "code",
   "execution_count": 185,
   "id": "adf40980",
   "metadata": {},
   "outputs": [],
   "source": [
    "data6=data5[['CGS_IB_Daily_Adj','CGS_IB_&_Official_Daily_Adj']]"
   ]
  },
  {
   "cell_type": "code",
   "execution_count": 186,
   "id": "8584d4c9",
   "metadata": {},
   "outputs": [],
   "source": [
    "data6.to_csv('CGS_Daily_Output_Gross_2023-03-19.csv')"
   ]
  },
  {
   "cell_type": "code",
   "execution_count": null,
   "id": "952e0b77",
   "metadata": {},
   "outputs": [],
   "source": []
  },
  {
   "cell_type": "code",
   "execution_count": null,
   "id": "02c2ffb0",
   "metadata": {},
   "outputs": [],
   "source": []
  },
  {
   "cell_type": "code",
   "execution_count": 92,
   "id": "be7982f6",
   "metadata": {},
   "outputs": [
    {
     "name": "stderr",
     "output_type": "stream",
     "text": [
      "C:\\Users\\VEDANT~1\\AppData\\Local\\Temp/ipykernel_1264/3485122736.py:1: SettingWithCopyWarning: \n",
      "A value is trying to be set on a copy of a slice from a DataFrame.\n",
      "Try using .loc[row_indexer,col_indexer] = value instead\n",
      "\n",
      "See the caveats in the documentation: https://pandas.pydata.org/pandas-docs/stable/user_guide/indexing.html#returning-a-view-versus-a-copy\n",
      "  data6['CGS_IB_Monthly_Adj'] = (1 + data6['CGS_IB_Daily_Adj']).cumprod()\n",
      "C:\\Users\\VEDANT~1\\AppData\\Local\\Temp/ipykernel_1264/3485122736.py:2: SettingWithCopyWarning: \n",
      "A value is trying to be set on a copy of a slice from a DataFrame.\n",
      "Try using .loc[row_indexer,col_indexer] = value instead\n",
      "\n",
      "See the caveats in the documentation: https://pandas.pydata.org/pandas-docs/stable/user_guide/indexing.html#returning-a-view-versus-a-copy\n",
      "  data6['CGS_IB_&_Official_Monthly_Adj'] = (1 + data6['CGS_IB_&_Official_Daily_Adj']).cumprod()\n"
     ]
    }
   ],
   "source": [
    "data6['CGS_IB_Monthly_Adj'] = (1 + data6['CGS_IB_Daily_Adj']).cumprod()\n",
    "data6['CGS_IB_&_Official_Monthly_Adj'] = (1 + data6['CGS_IB_&_Official_Daily_Adj']).cumprod()\n",
    "\n",
    "# Resample to monthly frequency and compound returns within each month\n",
    "monthly_data = data6.resample('M').apply(lambda x: (x + 1).prod() - 1)"
   ]
  },
  {
   "cell_type": "code",
   "execution_count": 93,
   "id": "b58cea5f",
   "metadata": {},
   "outputs": [],
   "source": [
    "monthly_data1=monthly_data.iloc[:,0:2]"
   ]
  },
  {
   "cell_type": "code",
   "execution_count": 94,
   "id": "68cab2f7",
   "metadata": {},
   "outputs": [],
   "source": [
    "monthly_data1.columns=['CGS_IB_Monthly_Adj','CGS_IB_&_Official_Monthly_Adj']"
   ]
  },
  {
   "cell_type": "code",
   "execution_count": 95,
   "id": "da0da6ff",
   "metadata": {},
   "outputs": [
    {
     "data": {
      "text/html": [
       "<div>\n",
       "<style scoped>\n",
       "    .dataframe tbody tr th:only-of-type {\n",
       "        vertical-align: middle;\n",
       "    }\n",
       "\n",
       "    .dataframe tbody tr th {\n",
       "        vertical-align: top;\n",
       "    }\n",
       "\n",
       "    .dataframe thead th {\n",
       "        text-align: right;\n",
       "    }\n",
       "</style>\n",
       "<table border=\"1\" class=\"dataframe\">\n",
       "  <thead>\n",
       "    <tr style=\"text-align: right;\">\n",
       "      <th></th>\n",
       "      <th>CGS_IB_Monthly_Adj</th>\n",
       "      <th>CGS_IB_&amp;_Official_Monthly_Adj</th>\n",
       "    </tr>\n",
       "    <tr>\n",
       "      <th>Date</th>\n",
       "      <th></th>\n",
       "      <th></th>\n",
       "    </tr>\n",
       "  </thead>\n",
       "  <tbody>\n",
       "    <tr>\n",
       "      <th>2018-10-31</th>\n",
       "      <td>-0.034441</td>\n",
       "      <td>-0.031005</td>\n",
       "    </tr>\n",
       "    <tr>\n",
       "      <th>2018-11-30</th>\n",
       "      <td>0.020878</td>\n",
       "      <td>0.013617</td>\n",
       "    </tr>\n",
       "    <tr>\n",
       "      <th>2018-12-31</th>\n",
       "      <td>-0.068742</td>\n",
       "      <td>-0.064937</td>\n",
       "    </tr>\n",
       "    <tr>\n",
       "      <th>2019-01-31</th>\n",
       "      <td>0.077136</td>\n",
       "      <td>0.072256</td>\n",
       "    </tr>\n",
       "    <tr>\n",
       "      <th>2019-02-28</th>\n",
       "      <td>0.016695</td>\n",
       "      <td>0.014042</td>\n",
       "    </tr>\n",
       "  </tbody>\n",
       "</table>\n",
       "</div>"
      ],
      "text/plain": [
       "            CGS_IB_Monthly_Adj  CGS_IB_&_Official_Monthly_Adj\n",
       "Date                                                         \n",
       "2018-10-31           -0.034441                      -0.031005\n",
       "2018-11-30            0.020878                       0.013617\n",
       "2018-12-31           -0.068742                      -0.064937\n",
       "2019-01-31            0.077136                       0.072256\n",
       "2019-02-28            0.016695                       0.014042"
      ]
     },
     "execution_count": 95,
     "metadata": {},
     "output_type": "execute_result"
    }
   ],
   "source": [
    "monthly_data1.head()"
   ]
  },
  {
   "cell_type": "code",
   "execution_count": 96,
   "id": "c6fb8196",
   "metadata": {},
   "outputs": [
    {
     "data": {
      "text/plain": [
       "1.4227792232636263"
      ]
     },
     "execution_count": 96,
     "metadata": {},
     "output_type": "execute_result"
    }
   ],
   "source": [
    "(1 + monthly_data1['CGS_IB_Monthly_Adj']).cumprod().iloc[-1]"
   ]
  },
  {
   "cell_type": "code",
   "execution_count": 97,
   "id": "7d583404",
   "metadata": {},
   "outputs": [
    {
     "data": {
      "text/plain": [
       "1.4227792232636318"
      ]
     },
     "execution_count": 97,
     "metadata": {},
     "output_type": "execute_result"
    }
   ],
   "source": [
    "(1 + data5['CGS_IB_Daily_Adj']).cumprod().iloc[-1]"
   ]
  },
  {
   "cell_type": "code",
   "execution_count": 98,
   "id": "4898e7d6",
   "metadata": {},
   "outputs": [
    {
     "data": {
      "text/plain": [
       "1.504262040220051"
      ]
     },
     "execution_count": 98,
     "metadata": {},
     "output_type": "execute_result"
    }
   ],
   "source": [
    "(1 + monthly_data1['CGS_IB_&_Official_Monthly_Adj']).cumprod().iloc[-1]"
   ]
  },
  {
   "cell_type": "code",
   "execution_count": 99,
   "id": "087a3818",
   "metadata": {},
   "outputs": [
    {
     "data": {
      "text/plain": [
       "1.504262040220049"
      ]
     },
     "execution_count": 99,
     "metadata": {},
     "output_type": "execute_result"
    }
   ],
   "source": [
    "(1 + data5['CGS_IB_&_Official_Daily_Adj']).cumprod().iloc[-1]"
   ]
  },
  {
   "cell_type": "code",
   "execution_count": 100,
   "id": "513f13c6",
   "metadata": {},
   "outputs": [
    {
     "data": {
      "text/plain": [
       "(59, 2)"
      ]
     },
     "execution_count": 100,
     "metadata": {},
     "output_type": "execute_result"
    }
   ],
   "source": [
    "monthly_data1.shape"
   ]
  },
  {
   "cell_type": "code",
   "execution_count": 101,
   "id": "65552a09",
   "metadata": {},
   "outputs": [
    {
     "data": {
      "text/plain": [
       "(59, 1)"
      ]
     },
     "execution_count": 101,
     "metadata": {},
     "output_type": "execute_result"
    }
   ],
   "source": [
    "CGS_Official_M.shape"
   ]
  },
  {
   "cell_type": "code",
   "execution_count": 102,
   "id": "0cb829a1",
   "metadata": {
    "scrolled": false
   },
   "outputs": [
    {
     "data": {
      "text/html": [
       "<div>\n",
       "<style scoped>\n",
       "    .dataframe tbody tr th:only-of-type {\n",
       "        vertical-align: middle;\n",
       "    }\n",
       "\n",
       "    .dataframe tbody tr th {\n",
       "        vertical-align: top;\n",
       "    }\n",
       "\n",
       "    .dataframe thead th {\n",
       "        text-align: right;\n",
       "    }\n",
       "</style>\n",
       "<table border=\"1\" class=\"dataframe\">\n",
       "  <thead>\n",
       "    <tr style=\"text-align: right;\">\n",
       "      <th></th>\n",
       "      <th>CGS_Net_Admin_Monthly</th>\n",
       "    </tr>\n",
       "    <tr>\n",
       "      <th>Date</th>\n",
       "      <th></th>\n",
       "    </tr>\n",
       "  </thead>\n",
       "  <tbody>\n",
       "    <tr>\n",
       "      <th>2018-10-31</th>\n",
       "      <td>-0.03101</td>\n",
       "    </tr>\n",
       "    <tr>\n",
       "      <th>2018-11-30</th>\n",
       "      <td>0.01361</td>\n",
       "    </tr>\n",
       "    <tr>\n",
       "      <th>2018-12-31</th>\n",
       "      <td>-0.06495</td>\n",
       "    </tr>\n",
       "    <tr>\n",
       "      <th>2019-01-31</th>\n",
       "      <td>0.07224</td>\n",
       "    </tr>\n",
       "    <tr>\n",
       "      <th>2019-02-28</th>\n",
       "      <td>0.01404</td>\n",
       "    </tr>\n",
       "  </tbody>\n",
       "</table>\n",
       "</div>"
      ],
      "text/plain": [
       "            CGS_Net_Admin_Monthly\n",
       "Date                             \n",
       "2018-10-31               -0.03101\n",
       "2018-11-30                0.01361\n",
       "2018-12-31               -0.06495\n",
       "2019-01-31                0.07224\n",
       "2019-02-28                0.01404"
      ]
     },
     "execution_count": 102,
     "metadata": {},
     "output_type": "execute_result"
    }
   ],
   "source": [
    "CGS_Official_M.head()"
   ]
  },
  {
   "cell_type": "code",
   "execution_count": 103,
   "id": "772fc593",
   "metadata": {},
   "outputs": [],
   "source": [
    "merged_df = pd.concat([CGS_Official_M, monthly_data1], axis=1)"
   ]
  },
  {
   "cell_type": "code",
   "execution_count": 104,
   "id": "9e71e52c",
   "metadata": {},
   "outputs": [
    {
     "data": {
      "text/plain": [
       "(59, 3)"
      ]
     },
     "execution_count": 104,
     "metadata": {},
     "output_type": "execute_result"
    }
   ],
   "source": [
    "merged_df.shape"
   ]
  },
  {
   "cell_type": "code",
   "execution_count": 105,
   "id": "d0371451",
   "metadata": {},
   "outputs": [
    {
     "data": {
      "text/html": [
       "<div>\n",
       "<style scoped>\n",
       "    .dataframe tbody tr th:only-of-type {\n",
       "        vertical-align: middle;\n",
       "    }\n",
       "\n",
       "    .dataframe tbody tr th {\n",
       "        vertical-align: top;\n",
       "    }\n",
       "\n",
       "    .dataframe thead th {\n",
       "        text-align: right;\n",
       "    }\n",
       "</style>\n",
       "<table border=\"1\" class=\"dataframe\">\n",
       "  <thead>\n",
       "    <tr style=\"text-align: right;\">\n",
       "      <th></th>\n",
       "      <th>CGS_Net_Admin_Monthly</th>\n",
       "      <th>CGS_IB_Monthly_Adj</th>\n",
       "      <th>CGS_IB_&amp;_Official_Monthly_Adj</th>\n",
       "    </tr>\n",
       "    <tr>\n",
       "      <th>Date</th>\n",
       "      <th></th>\n",
       "      <th></th>\n",
       "      <th></th>\n",
       "    </tr>\n",
       "  </thead>\n",
       "  <tbody>\n",
       "    <tr>\n",
       "      <th>2018-10-31</th>\n",
       "      <td>-0.03101</td>\n",
       "      <td>-0.034441</td>\n",
       "      <td>-0.031005</td>\n",
       "    </tr>\n",
       "    <tr>\n",
       "      <th>2018-11-30</th>\n",
       "      <td>0.01361</td>\n",
       "      <td>0.020878</td>\n",
       "      <td>0.013617</td>\n",
       "    </tr>\n",
       "    <tr>\n",
       "      <th>2018-12-31</th>\n",
       "      <td>-0.06495</td>\n",
       "      <td>-0.068742</td>\n",
       "      <td>-0.064937</td>\n",
       "    </tr>\n",
       "    <tr>\n",
       "      <th>2019-01-31</th>\n",
       "      <td>0.07224</td>\n",
       "      <td>0.077136</td>\n",
       "      <td>0.072256</td>\n",
       "    </tr>\n",
       "    <tr>\n",
       "      <th>2019-02-28</th>\n",
       "      <td>0.01404</td>\n",
       "      <td>0.016695</td>\n",
       "      <td>0.014042</td>\n",
       "    </tr>\n",
       "  </tbody>\n",
       "</table>\n",
       "</div>"
      ],
      "text/plain": [
       "            CGS_Net_Admin_Monthly  CGS_IB_Monthly_Adj  \\\n",
       "Date                                                    \n",
       "2018-10-31               -0.03101           -0.034441   \n",
       "2018-11-30                0.01361            0.020878   \n",
       "2018-12-31               -0.06495           -0.068742   \n",
       "2019-01-31                0.07224            0.077136   \n",
       "2019-02-28                0.01404            0.016695   \n",
       "\n",
       "            CGS_IB_&_Official_Monthly_Adj  \n",
       "Date                                       \n",
       "2018-10-31                      -0.031005  \n",
       "2018-11-30                       0.013617  \n",
       "2018-12-31                      -0.064937  \n",
       "2019-01-31                       0.072256  \n",
       "2019-02-28                       0.014042  "
      ]
     },
     "execution_count": 105,
     "metadata": {},
     "output_type": "execute_result"
    }
   ],
   "source": [
    "merged_df.head()"
   ]
  },
  {
   "cell_type": "code",
   "execution_count": 106,
   "id": "07b86402",
   "metadata": {},
   "outputs": [],
   "source": [
    "merged_df.to_csv('CGS_Monthly_Output_2023-09-27.csv')"
   ]
  },
  {
   "cell_type": "code",
   "execution_count": null,
   "id": "78d1f49d",
   "metadata": {},
   "outputs": [],
   "source": []
  },
  {
   "cell_type": "code",
   "execution_count": 107,
   "id": "523e0ebb",
   "metadata": {},
   "outputs": [],
   "source": [
    "#I eye balled the data and it matches till the second decimal point"
   ]
  },
  {
   "cell_type": "code",
   "execution_count": null,
   "id": "8899b3bb",
   "metadata": {},
   "outputs": [],
   "source": []
  }
 ],
 "metadata": {
  "kernelspec": {
   "display_name": "Python 3 (ipykernel)",
   "language": "python",
   "name": "python3"
  },
  "language_info": {
   "codemirror_mode": {
    "name": "ipython",
    "version": 3
   },
   "file_extension": ".py",
   "mimetype": "text/x-python",
   "name": "python",
   "nbconvert_exporter": "python",
   "pygments_lexer": "ipython3",
   "version": "3.12.3"
  }
 },
 "nbformat": 4,
 "nbformat_minor": 5
}
